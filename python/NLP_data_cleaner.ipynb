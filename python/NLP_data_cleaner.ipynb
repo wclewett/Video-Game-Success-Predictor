{
 "cells": [
  {
   "cell_type": "code",
   "execution_count": 1,
   "metadata": {},
   "outputs": [],
   "source": [
    "import pandas as pd"
   ]
  },
  {
   "cell_type": "code",
   "execution_count": 170,
   "metadata": {},
   "outputs": [
    {
     "data": {
      "text/html": [
       "<div>\n",
       "<style scoped>\n",
       "    .dataframe tbody tr th:only-of-type {\n",
       "        vertical-align: middle;\n",
       "    }\n",
       "\n",
       "    .dataframe tbody tr th {\n",
       "        vertical-align: top;\n",
       "    }\n",
       "\n",
       "    .dataframe thead th {\n",
       "        text-align: right;\n",
       "    }\n",
       "</style>\n",
       "<table border=\"1\" class=\"dataframe\">\n",
       "  <thead>\n",
       "    <tr style=\"text-align: right;\">\n",
       "      <th></th>\n",
       "      <th>title</th>\n",
       "      <th>moreInfo</th>\n",
       "      <th>systems</th>\n",
       "      <th>genres</th>\n",
       "      <th>playModes</th>\n",
       "      <th>themes</th>\n",
       "      <th>series</th>\n",
       "      <th>playerPerspectives</th>\n",
       "      <th>imageLink</th>\n",
       "      <th>memberRating</th>\n",
       "      <th>gameDescription</th>\n",
       "      <th>keywords</th>\n",
       "    </tr>\n",
       "  </thead>\n",
       "  <tbody>\n",
       "    <tr>\n",
       "      <th>0</th>\n",
       "      <td>#killallzombies</td>\n",
       "      <td>https://www.igdb.com/games/number-killallzombies</td>\n",
       "      <td>['Xbox One', 'PlayStation 4', 'PlayStation Net...</td>\n",
       "      <td>['Arcade', 'Indie', 'Shooter']</td>\n",
       "      <td>['Co-operative', 'Multiplayer', 'Single player...</td>\n",
       "      <td>['Action', 'Horror']</td>\n",
       "      <td>NaN</td>\n",
       "      <td>['Bird view / Isometric']</td>\n",
       "      <td>https://images.igdb.com/igdb/image/upload/t_co...</td>\n",
       "      <td>Alright</td>\n",
       "      <td>#KILLALLZOMBIES is an insane twin-stick zombie...</td>\n",
       "      <td>NaN</td>\n",
       "    </tr>\n",
       "    <tr>\n",
       "      <th>1</th>\n",
       "      <td>'Splosion Man</td>\n",
       "      <td>https://www.igdb.com/games/ms-splosion-man</td>\n",
       "      <td>['iOS', 'Xbox Live Arcade', 'Windows Phone', '...</td>\n",
       "      <td>['Indie', 'Platform']</td>\n",
       "      <td>['Co-operative', 'Multiplayer', 'Single player']</td>\n",
       "      <td>['Action', 'Comedy', 'Science fiction']</td>\n",
       "      <td>Splosion Man</td>\n",
       "      <td>['Side view']</td>\n",
       "      <td>https://images.igdb.com/igdb/image/upload/t_co...</td>\n",
       "      <td>Good</td>\n",
       "      <td>You got a problem? Yo, she’ll splode it. At th...</td>\n",
       "      <td>4 player co-op acid anchor avatar awards baref...</td>\n",
       "    </tr>\n",
       "    <tr>\n",
       "      <th>2</th>\n",
       "      <td>'n Verlore Verstand</td>\n",
       "      <td>https://www.igdb.com/games/n-verlore-verstand</td>\n",
       "      <td>['Xbox One', 'Linux', 'Mac', 'PC (Microsoft Wi...</td>\n",
       "      <td>['Adventure', 'Indie', 'Platform', 'Puzzle']</td>\n",
       "      <td>['Single player']</td>\n",
       "      <td>[]</td>\n",
       "      <td>NaN</td>\n",
       "      <td>['First person', 'Virtual Reality']</td>\n",
       "      <td>https://images.igdb.com/igdb/image/upload/t_co...</td>\n",
       "      <td>Alright</td>\n",
       "      <td>Be prepared to be transported to a reality of ...</td>\n",
       "      <td>NaN</td>\n",
       "    </tr>\n",
       "    <tr>\n",
       "      <th>3</th>\n",
       "      <td>.hack//G.U. Last Recode</td>\n",
       "      <td>https://www.igdb.com/games/dot-hack-slash-slas...</td>\n",
       "      <td>['PlayStation 4', 'PC (Microsoft Windows)']</td>\n",
       "      <td>['Adventure', 'Role-playing (RPG)']</td>\n",
       "      <td>['Single player']</td>\n",
       "      <td>['Action', 'Fantasy', 'Science fiction']</td>\n",
       "      <td>.hack//G.U</td>\n",
       "      <td>['Third person']</td>\n",
       "      <td>https://images.igdb.com/igdb/image/upload/t_co...</td>\n",
       "      <td>Alright</td>\n",
       "      <td>A remastered collection of the .hack//G.U. ser...</td>\n",
       "      <td>NaN</td>\n",
       "    </tr>\n",
       "    <tr>\n",
       "      <th>4</th>\n",
       "      <td>.hack//G.U.vol.1//Rebirth</td>\n",
       "      <td>https://www.igdb.com/games/dot-hack-slash-slas...</td>\n",
       "      <td>['PlayStation 2']</td>\n",
       "      <td>['Role-playing (RPG)']</td>\n",
       "      <td>['Single player']</td>\n",
       "      <td>['Action', 'Fantasy', 'Science fiction']</td>\n",
       "      <td>.hack//G.U</td>\n",
       "      <td>['First person', 'Third person']</td>\n",
       "      <td>https://images.igdb.com/igdb/image/upload/t_co...</td>\n",
       "      <td>Alright</td>\n",
       "      <td>.hack//G.U. simulates a massively multiplayer ...</td>\n",
       "      <td>NaN</td>\n",
       "    </tr>\n",
       "    <tr>\n",
       "      <th>...</th>\n",
       "      <td>...</td>\n",
       "      <td>...</td>\n",
       "      <td>...</td>\n",
       "      <td>...</td>\n",
       "      <td>...</td>\n",
       "      <td>...</td>\n",
       "      <td>...</td>\n",
       "      <td>...</td>\n",
       "      <td>...</td>\n",
       "      <td>...</td>\n",
       "      <td>...</td>\n",
       "      <td>...</td>\n",
       "    </tr>\n",
       "    <tr>\n",
       "      <th>5629</th>\n",
       "      <td>Puyo Pop: Fever</td>\n",
       "      <td>https://www.igdb.com/games/puyo-pop-fever</td>\n",
       "      <td>['Nintendo DS', 'Xbox 360', 'PlayStation 2', '...</td>\n",
       "      <td>['Music', 'Puzzle', 'Strategy']</td>\n",
       "      <td>['Single player', 'Split screen']</td>\n",
       "      <td>['Action']</td>\n",
       "      <td>Puyo Puyo</td>\n",
       "      <td>[]</td>\n",
       "      <td>https://images.igdb.com/igdb/image/upload/t_co...</td>\n",
       "      <td>Alright</td>\n",
       "      <td>Updated version of the classic Puyo Puyo puzzl...</td>\n",
       "      <td>Puyo Puyo Fever (Other Alias)</td>\n",
       "    </tr>\n",
       "    <tr>\n",
       "      <th>5630</th>\n",
       "      <td>Puyo Puyo</td>\n",
       "      <td>https://www.igdb.com/games/puyo-puyo</td>\n",
       "      <td>['Super Famicom']</td>\n",
       "      <td>['Puzzle', 'Strategy']</td>\n",
       "      <td>[]</td>\n",
       "      <td>[]</td>\n",
       "      <td>Puyo Puyo</td>\n",
       "      <td>[]</td>\n",
       "      <td>https://images.igdb.com/igdb/image/upload/t_co...</td>\n",
       "      <td>Alright</td>\n",
       "      <td>Puyo Puyo is a puzzle game in which the player...</td>\n",
       "      <td>Puzlow Kids (Other Alias)</td>\n",
       "    </tr>\n",
       "    <tr>\n",
       "      <th>5631</th>\n",
       "      <td>Puyo Puyo 7</td>\n",
       "      <td>https://www.igdb.com/games/puyo-puyo-7</td>\n",
       "      <td>['Nintendo DS', 'PlayStation Portable', 'Wii']</td>\n",
       "      <td>['Puzzle']</td>\n",
       "      <td>['Multiplayer', 'Single player']</td>\n",
       "      <td>[]</td>\n",
       "      <td>Puyo Puyo!</td>\n",
       "      <td>[]</td>\n",
       "      <td>https://images.igdb.com/igdb/image/upload/t_co...</td>\n",
       "      <td>Alright</td>\n",
       "      <td>This is the 7th game in the main Puyo Puyo ser...</td>\n",
       "      <td>NaN</td>\n",
       "    </tr>\n",
       "    <tr>\n",
       "      <th>5632</th>\n",
       "      <td>Puyo Puyo Champions</td>\n",
       "      <td>https://www.igdb.com/games/puyo-puyo-champions</td>\n",
       "      <td>['Xbox One', 'PlayStation 4', 'PC (Microsoft W...</td>\n",
       "      <td>['Puzzle']</td>\n",
       "      <td>['Multiplayer', 'Single player']</td>\n",
       "      <td>['Action']</td>\n",
       "      <td>Puyo Puyo</td>\n",
       "      <td>['Side view']</td>\n",
       "      <td>https://images.igdb.com/igdb/image/upload/t_co...</td>\n",
       "      <td>Alright</td>\n",
       "      <td>Easy to learn, tough to master! Jump straight ...</td>\n",
       "      <td>NaN</td>\n",
       "    </tr>\n",
       "    <tr>\n",
       "      <th>5633</th>\n",
       "      <td>Puyo Puyo Fever 2</td>\n",
       "      <td>https://www.igdb.com/games/puyo-puyo-fever-2</td>\n",
       "      <td>['Nintendo DS', 'PlayStation Portable']</td>\n",
       "      <td>['Puzzle']</td>\n",
       "      <td>[]</td>\n",
       "      <td>['Action']</td>\n",
       "      <td>Puyo Puyo</td>\n",
       "      <td>[]</td>\n",
       "      <td>https://images.igdb.com/igdb/image/upload/t_co...</td>\n",
       "      <td>Alright</td>\n",
       "      <td>Hmm.  no websites found for this game. Care to...</td>\n",
       "      <td>block matching genius-level intellect heteroch...</td>\n",
       "    </tr>\n",
       "  </tbody>\n",
       "</table>\n",
       "<p>5634 rows × 12 columns</p>\n",
       "</div>"
      ],
      "text/plain": [
       "                          title  \\\n",
       "0               #killallzombies   \n",
       "1                 'Splosion Man   \n",
       "2           'n Verlore Verstand   \n",
       "3       .hack//G.U. Last Recode   \n",
       "4     .hack//G.U.vol.1//Rebirth   \n",
       "...                         ...   \n",
       "5629            Puyo Pop: Fever   \n",
       "5630                  Puyo Puyo   \n",
       "5631                Puyo Puyo 7   \n",
       "5632        Puyo Puyo Champions   \n",
       "5633          Puyo Puyo Fever 2   \n",
       "\n",
       "                                               moreInfo  \\\n",
       "0      https://www.igdb.com/games/number-killallzombies   \n",
       "1            https://www.igdb.com/games/ms-splosion-man   \n",
       "2         https://www.igdb.com/games/n-verlore-verstand   \n",
       "3     https://www.igdb.com/games/dot-hack-slash-slas...   \n",
       "4     https://www.igdb.com/games/dot-hack-slash-slas...   \n",
       "...                                                 ...   \n",
       "5629          https://www.igdb.com/games/puyo-pop-fever   \n",
       "5630               https://www.igdb.com/games/puyo-puyo   \n",
       "5631             https://www.igdb.com/games/puyo-puyo-7   \n",
       "5632     https://www.igdb.com/games/puyo-puyo-champions   \n",
       "5633       https://www.igdb.com/games/puyo-puyo-fever-2   \n",
       "\n",
       "                                                systems  \\\n",
       "0     ['Xbox One', 'PlayStation 4', 'PlayStation Net...   \n",
       "1     ['iOS', 'Xbox Live Arcade', 'Windows Phone', '...   \n",
       "2     ['Xbox One', 'Linux', 'Mac', 'PC (Microsoft Wi...   \n",
       "3           ['PlayStation 4', 'PC (Microsoft Windows)']   \n",
       "4                                     ['PlayStation 2']   \n",
       "...                                                 ...   \n",
       "5629  ['Nintendo DS', 'Xbox 360', 'PlayStation 2', '...   \n",
       "5630                                  ['Super Famicom']   \n",
       "5631     ['Nintendo DS', 'PlayStation Portable', 'Wii']   \n",
       "5632  ['Xbox One', 'PlayStation 4', 'PC (Microsoft W...   \n",
       "5633            ['Nintendo DS', 'PlayStation Portable']   \n",
       "\n",
       "                                            genres  \\\n",
       "0                   ['Arcade', 'Indie', 'Shooter']   \n",
       "1                            ['Indie', 'Platform']   \n",
       "2     ['Adventure', 'Indie', 'Platform', 'Puzzle']   \n",
       "3              ['Adventure', 'Role-playing (RPG)']   \n",
       "4                           ['Role-playing (RPG)']   \n",
       "...                                            ...   \n",
       "5629               ['Music', 'Puzzle', 'Strategy']   \n",
       "5630                        ['Puzzle', 'Strategy']   \n",
       "5631                                    ['Puzzle']   \n",
       "5632                                    ['Puzzle']   \n",
       "5633                                    ['Puzzle']   \n",
       "\n",
       "                                              playModes  \\\n",
       "0     ['Co-operative', 'Multiplayer', 'Single player...   \n",
       "1      ['Co-operative', 'Multiplayer', 'Single player']   \n",
       "2                                     ['Single player']   \n",
       "3                                     ['Single player']   \n",
       "4                                     ['Single player']   \n",
       "...                                                 ...   \n",
       "5629                  ['Single player', 'Split screen']   \n",
       "5630                                                 []   \n",
       "5631                   ['Multiplayer', 'Single player']   \n",
       "5632                   ['Multiplayer', 'Single player']   \n",
       "5633                                                 []   \n",
       "\n",
       "                                        themes        series  \\\n",
       "0                         ['Action', 'Horror']           NaN   \n",
       "1      ['Action', 'Comedy', 'Science fiction']  Splosion Man   \n",
       "2                                           []           NaN   \n",
       "3     ['Action', 'Fantasy', 'Science fiction']    .hack//G.U   \n",
       "4     ['Action', 'Fantasy', 'Science fiction']    .hack//G.U   \n",
       "...                                        ...           ...   \n",
       "5629                                ['Action']     Puyo Puyo   \n",
       "5630                                        []     Puyo Puyo   \n",
       "5631                                        []    Puyo Puyo!   \n",
       "5632                                ['Action']     Puyo Puyo   \n",
       "5633                                ['Action']     Puyo Puyo   \n",
       "\n",
       "                       playerPerspectives  \\\n",
       "0               ['Bird view / Isometric']   \n",
       "1                           ['Side view']   \n",
       "2     ['First person', 'Virtual Reality']   \n",
       "3                        ['Third person']   \n",
       "4        ['First person', 'Third person']   \n",
       "...                                   ...   \n",
       "5629                                   []   \n",
       "5630                                   []   \n",
       "5631                                   []   \n",
       "5632                        ['Side view']   \n",
       "5633                                   []   \n",
       "\n",
       "                                              imageLink memberRating  \\\n",
       "0     https://images.igdb.com/igdb/image/upload/t_co...      Alright   \n",
       "1     https://images.igdb.com/igdb/image/upload/t_co...         Good   \n",
       "2     https://images.igdb.com/igdb/image/upload/t_co...      Alright   \n",
       "3     https://images.igdb.com/igdb/image/upload/t_co...      Alright   \n",
       "4     https://images.igdb.com/igdb/image/upload/t_co...      Alright   \n",
       "...                                                 ...          ...   \n",
       "5629  https://images.igdb.com/igdb/image/upload/t_co...      Alright   \n",
       "5630  https://images.igdb.com/igdb/image/upload/t_co...      Alright   \n",
       "5631  https://images.igdb.com/igdb/image/upload/t_co...      Alright   \n",
       "5632  https://images.igdb.com/igdb/image/upload/t_co...      Alright   \n",
       "5633  https://images.igdb.com/igdb/image/upload/t_co...      Alright   \n",
       "\n",
       "                                        gameDescription  \\\n",
       "0     #KILLALLZOMBIES is an insane twin-stick zombie...   \n",
       "1     You got a problem? Yo, she’ll splode it. At th...   \n",
       "2     Be prepared to be transported to a reality of ...   \n",
       "3     A remastered collection of the .hack//G.U. ser...   \n",
       "4     .hack//G.U. simulates a massively multiplayer ...   \n",
       "...                                                 ...   \n",
       "5629  Updated version of the classic Puyo Puyo puzzl...   \n",
       "5630  Puyo Puyo is a puzzle game in which the player...   \n",
       "5631  This is the 7th game in the main Puyo Puyo ser...   \n",
       "5632  Easy to learn, tough to master! Jump straight ...   \n",
       "5633  Hmm.  no websites found for this game. Care to...   \n",
       "\n",
       "                                               keywords  \n",
       "0                                                   NaN  \n",
       "1     4 player co-op acid anchor avatar awards baref...  \n",
       "2                                                   NaN  \n",
       "3                                                   NaN  \n",
       "4                                                   NaN  \n",
       "...                                                 ...  \n",
       "5629                      Puyo Puyo Fever (Other Alias)  \n",
       "5630                          Puzlow Kids (Other Alias)  \n",
       "5631                                                NaN  \n",
       "5632                                                NaN  \n",
       "5633  block matching genius-level intellect heteroch...  \n",
       "\n",
       "[5634 rows x 12 columns]"
      ]
     },
     "execution_count": 170,
     "metadata": {},
     "output_type": "execute_result"
    }
   ],
   "source": [
    "# read in testing data\n",
    "data = pd.read_csv('test_df.csv').drop('Unnamed: 0', axis=1)\n",
    "data"
   ]
  },
  {
   "cell_type": "code",
   "execution_count": 171,
   "metadata": {},
   "outputs": [
    {
     "data": {
      "text/plain": [
       "Good            1799\n",
       "Alright         1639\n",
       "Fair             739\n",
       "Great            671\n",
       "Average          456\n",
       "Unimpressive     166\n",
       "Bad               84\n",
       "Superb            44\n",
       "Very Bad          35\n",
       "Awful              1\n",
       "Name: memberRating, dtype: int64"
      ]
     },
     "execution_count": 171,
     "metadata": {},
     "output_type": "execute_result"
    }
   ],
   "source": [
    "data['memberRating'].value_counts()"
   ]
  },
  {
   "cell_type": "code",
   "execution_count": 172,
   "metadata": {},
   "outputs": [
    {
     "data": {
      "text/html": [
       "<div>\n",
       "<style scoped>\n",
       "    .dataframe tbody tr th:only-of-type {\n",
       "        vertical-align: middle;\n",
       "    }\n",
       "\n",
       "    .dataframe tbody tr th {\n",
       "        vertical-align: top;\n",
       "    }\n",
       "\n",
       "    .dataframe thead th {\n",
       "        text-align: right;\n",
       "    }\n",
       "</style>\n",
       "<table border=\"1\" class=\"dataframe\">\n",
       "  <thead>\n",
       "    <tr style=\"text-align: right;\">\n",
       "      <th></th>\n",
       "      <th>rating</th>\n",
       "      <th>text</th>\n",
       "    </tr>\n",
       "  </thead>\n",
       "  <tbody>\n",
       "    <tr>\n",
       "      <th>0</th>\n",
       "      <td>2</td>\n",
       "      <td>#KILLALLZOMBIES is an insane twin-stick zombi...</td>\n",
       "    </tr>\n",
       "    <tr>\n",
       "      <th>1</th>\n",
       "      <td>3</td>\n",
       "      <td>You got a problem? Yo, she’ll splode it. At t...</td>\n",
       "    </tr>\n",
       "    <tr>\n",
       "      <th>2</th>\n",
       "      <td>2</td>\n",
       "      <td>Be prepared to be transported to a reality of...</td>\n",
       "    </tr>\n",
       "    <tr>\n",
       "      <th>3</th>\n",
       "      <td>2</td>\n",
       "      <td>A remastered collection of the .hack//G.U. se...</td>\n",
       "    </tr>\n",
       "    <tr>\n",
       "      <th>4</th>\n",
       "      <td>2</td>\n",
       "      <td>.hack//G.U. simulates a massively multiplayer...</td>\n",
       "    </tr>\n",
       "    <tr>\n",
       "      <th>...</th>\n",
       "      <td>...</td>\n",
       "      <td>...</td>\n",
       "    </tr>\n",
       "    <tr>\n",
       "      <th>5629</th>\n",
       "      <td>2</td>\n",
       "      <td>Updated version of the classic Puyo Puyo puzz...</td>\n",
       "    </tr>\n",
       "    <tr>\n",
       "      <th>5630</th>\n",
       "      <td>2</td>\n",
       "      <td>Puyo Puyo is a puzzle game in which the playe...</td>\n",
       "    </tr>\n",
       "    <tr>\n",
       "      <th>5631</th>\n",
       "      <td>2</td>\n",
       "      <td>This is the 7th game in the main Puyo Puyo se...</td>\n",
       "    </tr>\n",
       "    <tr>\n",
       "      <th>5632</th>\n",
       "      <td>2</td>\n",
       "      <td>Easy to learn, tough to master! Jump straight...</td>\n",
       "    </tr>\n",
       "    <tr>\n",
       "      <th>5633</th>\n",
       "      <td>2</td>\n",
       "      <td>Hmm.  no websites found for this game. Care t...</td>\n",
       "    </tr>\n",
       "  </tbody>\n",
       "</table>\n",
       "<p>5634 rows × 2 columns</p>\n",
       "</div>"
      ],
      "text/plain": [
       "     rating                                               text\n",
       "0         2   #KILLALLZOMBIES is an insane twin-stick zombi...\n",
       "1         3   You got a problem? Yo, she’ll splode it. At t...\n",
       "2         2   Be prepared to be transported to a reality of...\n",
       "3         2   A remastered collection of the .hack//G.U. se...\n",
       "4         2   .hack//G.U. simulates a massively multiplayer...\n",
       "...     ...                                                ...\n",
       "5629      2   Updated version of the classic Puyo Puyo puzz...\n",
       "5630      2   Puyo Puyo is a puzzle game in which the playe...\n",
       "5631      2   This is the 7th game in the main Puyo Puyo se...\n",
       "5632      2   Easy to learn, tough to master! Jump straight...\n",
       "5633      2   Hmm.  no websites found for this game. Care t...\n",
       "\n",
       "[5634 rows x 2 columns]"
      ]
     },
     "execution_count": 172,
     "metadata": {},
     "output_type": "execute_result"
    }
   ],
   "source": [
    "import numpy as np\n",
    "for i in range(len(data)):\n",
    "    data_array = []\n",
    "    data_string = ''\n",
    "    data_string = data_string + ' ' + data['gameDescription'][i]\n",
    "    try:\n",
    "        data_string = data_string + ' ' + data['series'][i]\n",
    "    except:\n",
    "        data_string = data_string + ''\n",
    "    try: \n",
    "        data_string = data_string + ' ' + data['keywords'][i]\n",
    "    except:\n",
    "        data_string = data_string + ''\n",
    "    try:\n",
    "        data_string = data_string + ' ' + data['themes'][i].replace('[', '').replace(\"'\", '').replace(\"]\", '').replace(\",\", '')\n",
    "    except:\n",
    "        data_string = data_string + ''\n",
    "    try:\n",
    "        data_string = data_string + ' ' + data['playerPerspectives'][i].replace('[', '').replace(\"'\", '').replace(\"]\", '').replace(\",\", '')\n",
    "    except:\n",
    "        data_string = data_string + ''\n",
    "    try:\n",
    "        data_string = data_string + ' ' + data['genres'][i].replace('[', '').replace(\"'\", '').replace(\"]\", '').replace(\",\", '')\n",
    "    except:\n",
    "        data_string = data_string + ''\n",
    "    try:\n",
    "        data_string = data_string + ' ' + data['playModes'][i].replace('[', '').replace(\"'\", '').replace(\"]\", '').replace(\",\", '')\n",
    "    except:\n",
    "        data_string = data_string + ''\n",
    "    try:\n",
    "        data_string = data_string + ' ' + data['systems'][i].replace('[', '').replace(\"'\", '').replace(\"]\", '').replace(\",\", '')\n",
    "    except:\n",
    "        data_string = data_string + ''\n",
    "    if data['memberRating'][i] == 'Fair':\n",
    "        rating = 1\n",
    "    elif data['memberRating'][i] == 'Alright':\n",
    "        rating = 2\n",
    "    elif data['memberRating'][i] == 'Average':\n",
    "        rating = 1\n",
    "    elif data['memberRating'][i] == 'Good':\n",
    "        rating = 3\n",
    "    elif data['memberRating'][i] == 'Great':\n",
    "        rating = 4\n",
    "    elif data['memberRating'][i] == 'Superb':\n",
    "        rating = 4\n",
    "    elif data['memberRating'][i] == 'Unimpressive':\n",
    "        rating = 1\n",
    "    elif data['memberRating'][i] == 'Very Bad':\n",
    "        rating = 1\n",
    "    elif data['memberRating'][i] == 'Bad':\n",
    "        rating = 1\n",
    "    elif data['memberRating'][i] == 'Awful':\n",
    "        rating = 1\n",
    "    data_array.append(rating)\n",
    "    data_array.append(data_string)\n",
    "    if i == 0:\n",
    "        test_df = pd.DataFrame(np.reshape(data_array, (1,2)), columns = ['rating','text'])\n",
    "    else:\n",
    "        df_length = len(test_df)\n",
    "        test_df.loc[df_length] = data_array\n",
    "test_df"
   ]
  },
  {
   "cell_type": "code",
   "execution_count": 5,
   "metadata": {},
   "outputs": [],
   "source": [
    "test_df.to_csv('cleaned_test_df.csv')"
   ]
  },
  {
   "cell_type": "code",
   "execution_count": 6,
   "metadata": {},
   "outputs": [
    {
     "data": {
      "text/plain": [
       "'Co-operative Multiplayer Single player Split screen'"
      ]
     },
     "execution_count": 6,
     "metadata": {},
     "output_type": "execute_result"
    }
   ],
   "source": [
    "data['playModes'][0].replace('[', '').replace(\"'\", '').replace(\"]\", '').replace(\",\", '')"
   ]
  },
  {
   "cell_type": "code",
   "execution_count": 7,
   "metadata": {},
   "outputs": [
    {
     "data": {
      "text/plain": [
       "range(166, 870)"
      ]
     },
     "execution_count": 7,
     "metadata": {},
     "output_type": "execute_result"
    }
   ],
   "source": [
    "range(166,870)"
   ]
  },
  {
   "cell_type": "code",
   "execution_count": 90,
   "metadata": {},
   "outputs": [
    {
     "data": {
      "text/plain": [
       "Good         1799\n",
       "Average      1639\n",
       "Bad          1481\n",
       "Excellent     715\n",
       "Name: rating, dtype: int64"
      ]
     },
     "execution_count": 90,
     "metadata": {},
     "output_type": "execute_result"
    }
   ],
   "source": [
    "test_df['rating'].value_counts()"
   ]
  },
  {
   "cell_type": "code",
   "execution_count": 173,
   "metadata": {},
   "outputs": [],
   "source": [
    "from sklearn.model_selection import train_test_split\n",
    "X_train, X_test, y_train, y_test = train_test_split(test_df['text'].to_numpy(), test_df['rating'].to_numpy(),\n",
    "                                                    test_size=0.50, random_state=42)"
   ]
  },
  {
   "cell_type": "code",
   "execution_count": 174,
   "metadata": {},
   "outputs": [
    {
     "data": {
      "text/plain": [
       "(2817, 19502)"
      ]
     },
     "execution_count": 174,
     "metadata": {},
     "output_type": "execute_result"
    }
   ],
   "source": [
    "# Naive Bayes\n",
    "from sklearn.feature_extraction.text import CountVectorizer\n",
    "from sklearn.feature_extraction.text import TfidfTransformer\n",
    "count_vect = CountVectorizer()\n",
    "X_train_counts = count_vect.fit_transform(X_train)\n",
    "tfidf_transformer = TfidfTransformer()\n",
    "X_train_tfidf = tfidf_transformer.fit_transform(X_train_counts)\n",
    "X_train_tfidf.shape"
   ]
  },
  {
   "cell_type": "code",
   "execution_count": 175,
   "metadata": {},
   "outputs": [
    {
     "data": {
      "text/plain": [
       "(2817, 19729)"
      ]
     },
     "execution_count": 175,
     "metadata": {},
     "output_type": "execute_result"
    }
   ],
   "source": [
    "from sklearn.feature_extraction.text import TfidfTransformer\n",
    "X_test_counts = count_vect.fit_transform(X_test)\n",
    "X_test_counts.shape\n",
    "tfidf_transformer = TfidfTransformer()\n",
    "X_test_tfidf = tfidf_transformer.fit_transform(X_test_counts)\n",
    "X_test_tfidf.shape"
   ]
  },
  {
   "cell_type": "code",
   "execution_count": 176,
   "metadata": {},
   "outputs": [
    {
     "ename": "ValueError",
     "evalue": "Unknown label type: (array([3, 3, 3, ..., 2, 3, 1], dtype=object),)",
     "output_type": "error",
     "traceback": [
      "\u001b[1;31m---------------------------------------------------------------------------\u001b[0m",
      "\u001b[1;31mValueError\u001b[0m                                Traceback (most recent call last)",
      "\u001b[1;32m<ipython-input-176-8a799e77729a>\u001b[0m in \u001b[0;36m<module>\u001b[1;34m()\u001b[0m\n\u001b[0;32m      1\u001b[0m \u001b[1;32mfrom\u001b[0m \u001b[0msklearn\u001b[0m\u001b[1;33m.\u001b[0m\u001b[0mnaive_bayes\u001b[0m \u001b[1;32mimport\u001b[0m \u001b[0mMultinomialNB\u001b[0m\u001b[1;33m\u001b[0m\u001b[1;33m\u001b[0m\u001b[0m\n\u001b[1;32m----> 2\u001b[1;33m \u001b[0mclf\u001b[0m \u001b[1;33m=\u001b[0m \u001b[0mMultinomialNB\u001b[0m\u001b[1;33m(\u001b[0m\u001b[1;33m)\u001b[0m\u001b[1;33m.\u001b[0m\u001b[0mfit\u001b[0m\u001b[1;33m(\u001b[0m\u001b[0mX_train_tfidf\u001b[0m\u001b[1;33m,\u001b[0m \u001b[0my_train\u001b[0m\u001b[1;33m)\u001b[0m\u001b[1;33m\u001b[0m\u001b[1;33m\u001b[0m\u001b[0m\n\u001b[0m",
      "\u001b[1;32mC:\\Users\\clewe\\anaconda3\\envs\\PythonAdv\\lib\\site-packages\\sklearn\\naive_bayes.py\u001b[0m in \u001b[0;36mfit\u001b[1;34m(self, X, y, sample_weight)\u001b[0m\n\u001b[0;32m    618\u001b[0m \u001b[1;33m\u001b[0m\u001b[0m\n\u001b[0;32m    619\u001b[0m         \u001b[0mlabelbin\u001b[0m \u001b[1;33m=\u001b[0m \u001b[0mLabelBinarizer\u001b[0m\u001b[1;33m(\u001b[0m\u001b[1;33m)\u001b[0m\u001b[1;33m\u001b[0m\u001b[1;33m\u001b[0m\u001b[0m\n\u001b[1;32m--> 620\u001b[1;33m         \u001b[0mY\u001b[0m \u001b[1;33m=\u001b[0m \u001b[0mlabelbin\u001b[0m\u001b[1;33m.\u001b[0m\u001b[0mfit_transform\u001b[0m\u001b[1;33m(\u001b[0m\u001b[0my\u001b[0m\u001b[1;33m)\u001b[0m\u001b[1;33m\u001b[0m\u001b[1;33m\u001b[0m\u001b[0m\n\u001b[0m\u001b[0;32m    621\u001b[0m         \u001b[0mself\u001b[0m\u001b[1;33m.\u001b[0m\u001b[0mclasses_\u001b[0m \u001b[1;33m=\u001b[0m \u001b[0mlabelbin\u001b[0m\u001b[1;33m.\u001b[0m\u001b[0mclasses_\u001b[0m\u001b[1;33m\u001b[0m\u001b[1;33m\u001b[0m\u001b[0m\n\u001b[0;32m    622\u001b[0m         \u001b[1;32mif\u001b[0m \u001b[0mY\u001b[0m\u001b[1;33m.\u001b[0m\u001b[0mshape\u001b[0m\u001b[1;33m[\u001b[0m\u001b[1;36m1\u001b[0m\u001b[1;33m]\u001b[0m \u001b[1;33m==\u001b[0m \u001b[1;36m1\u001b[0m\u001b[1;33m:\u001b[0m\u001b[1;33m\u001b[0m\u001b[1;33m\u001b[0m\u001b[0m\n",
      "\u001b[1;32mC:\\Users\\clewe\\anaconda3\\envs\\PythonAdv\\lib\\site-packages\\sklearn\\preprocessing\\_label.py\u001b[0m in \u001b[0;36mfit_transform\u001b[1;34m(self, y)\u001b[0m\n\u001b[0;32m    458\u001b[0m             \u001b[0mShape\u001b[0m \u001b[0mwill\u001b[0m \u001b[0mbe\u001b[0m \u001b[1;33m[\u001b[0m\u001b[0mn_samples\u001b[0m\u001b[1;33m,\u001b[0m \u001b[1;36m1\u001b[0m\u001b[1;33m]\u001b[0m \u001b[1;32mfor\u001b[0m \u001b[0mbinary\u001b[0m \u001b[0mproblems\u001b[0m\u001b[1;33m.\u001b[0m\u001b[1;33m\u001b[0m\u001b[1;33m\u001b[0m\u001b[0m\n\u001b[0;32m    459\u001b[0m         \"\"\"\n\u001b[1;32m--> 460\u001b[1;33m         \u001b[1;32mreturn\u001b[0m \u001b[0mself\u001b[0m\u001b[1;33m.\u001b[0m\u001b[0mfit\u001b[0m\u001b[1;33m(\u001b[0m\u001b[0my\u001b[0m\u001b[1;33m)\u001b[0m\u001b[1;33m.\u001b[0m\u001b[0mtransform\u001b[0m\u001b[1;33m(\u001b[0m\u001b[0my\u001b[0m\u001b[1;33m)\u001b[0m\u001b[1;33m\u001b[0m\u001b[1;33m\u001b[0m\u001b[0m\n\u001b[0m\u001b[0;32m    461\u001b[0m \u001b[1;33m\u001b[0m\u001b[0m\n\u001b[0;32m    462\u001b[0m     \u001b[1;32mdef\u001b[0m \u001b[0mtransform\u001b[0m\u001b[1;33m(\u001b[0m\u001b[0mself\u001b[0m\u001b[1;33m,\u001b[0m \u001b[0my\u001b[0m\u001b[1;33m)\u001b[0m\u001b[1;33m:\u001b[0m\u001b[1;33m\u001b[0m\u001b[1;33m\u001b[0m\u001b[0m\n",
      "\u001b[1;32mC:\\Users\\clewe\\anaconda3\\envs\\PythonAdv\\lib\\site-packages\\sklearn\\preprocessing\\_label.py\u001b[0m in \u001b[0;36mfit\u001b[1;34m(self, y)\u001b[0m\n\u001b[0;32m    435\u001b[0m \u001b[1;33m\u001b[0m\u001b[0m\n\u001b[0;32m    436\u001b[0m         \u001b[0mself\u001b[0m\u001b[1;33m.\u001b[0m\u001b[0msparse_input_\u001b[0m \u001b[1;33m=\u001b[0m \u001b[0msp\u001b[0m\u001b[1;33m.\u001b[0m\u001b[0missparse\u001b[0m\u001b[1;33m(\u001b[0m\u001b[0my\u001b[0m\u001b[1;33m)\u001b[0m\u001b[1;33m\u001b[0m\u001b[1;33m\u001b[0m\u001b[0m\n\u001b[1;32m--> 437\u001b[1;33m         \u001b[0mself\u001b[0m\u001b[1;33m.\u001b[0m\u001b[0mclasses_\u001b[0m \u001b[1;33m=\u001b[0m \u001b[0munique_labels\u001b[0m\u001b[1;33m(\u001b[0m\u001b[0my\u001b[0m\u001b[1;33m)\u001b[0m\u001b[1;33m\u001b[0m\u001b[1;33m\u001b[0m\u001b[0m\n\u001b[0m\u001b[0;32m    438\u001b[0m         \u001b[1;32mreturn\u001b[0m \u001b[0mself\u001b[0m\u001b[1;33m\u001b[0m\u001b[1;33m\u001b[0m\u001b[0m\n\u001b[0;32m    439\u001b[0m \u001b[1;33m\u001b[0m\u001b[0m\n",
      "\u001b[1;32mC:\\Users\\clewe\\anaconda3\\envs\\PythonAdv\\lib\\site-packages\\sklearn\\utils\\multiclass.py\u001b[0m in \u001b[0;36munique_labels\u001b[1;34m(*ys)\u001b[0m\n\u001b[0;32m     95\u001b[0m     \u001b[0m_unique_labels\u001b[0m \u001b[1;33m=\u001b[0m \u001b[0m_FN_UNIQUE_LABELS\u001b[0m\u001b[1;33m.\u001b[0m\u001b[0mget\u001b[0m\u001b[1;33m(\u001b[0m\u001b[0mlabel_type\u001b[0m\u001b[1;33m,\u001b[0m \u001b[1;32mNone\u001b[0m\u001b[1;33m)\u001b[0m\u001b[1;33m\u001b[0m\u001b[1;33m\u001b[0m\u001b[0m\n\u001b[0;32m     96\u001b[0m     \u001b[1;32mif\u001b[0m \u001b[1;32mnot\u001b[0m \u001b[0m_unique_labels\u001b[0m\u001b[1;33m:\u001b[0m\u001b[1;33m\u001b[0m\u001b[1;33m\u001b[0m\u001b[0m\n\u001b[1;32m---> 97\u001b[1;33m         \u001b[1;32mraise\u001b[0m \u001b[0mValueError\u001b[0m\u001b[1;33m(\u001b[0m\u001b[1;34m\"Unknown label type: %s\"\u001b[0m \u001b[1;33m%\u001b[0m \u001b[0mrepr\u001b[0m\u001b[1;33m(\u001b[0m\u001b[0mys\u001b[0m\u001b[1;33m)\u001b[0m\u001b[1;33m)\u001b[0m\u001b[1;33m\u001b[0m\u001b[1;33m\u001b[0m\u001b[0m\n\u001b[0m\u001b[0;32m     98\u001b[0m \u001b[1;33m\u001b[0m\u001b[0m\n\u001b[0;32m     99\u001b[0m     \u001b[0mys_labels\u001b[0m \u001b[1;33m=\u001b[0m \u001b[0mset\u001b[0m\u001b[1;33m(\u001b[0m\u001b[0mchain\u001b[0m\u001b[1;33m.\u001b[0m\u001b[0mfrom_iterable\u001b[0m\u001b[1;33m(\u001b[0m\u001b[0m_unique_labels\u001b[0m\u001b[1;33m(\u001b[0m\u001b[0my\u001b[0m\u001b[1;33m)\u001b[0m \u001b[1;32mfor\u001b[0m \u001b[0my\u001b[0m \u001b[1;32min\u001b[0m \u001b[0mys\u001b[0m\u001b[1;33m)\u001b[0m\u001b[1;33m)\u001b[0m\u001b[1;33m\u001b[0m\u001b[1;33m\u001b[0m\u001b[0m\n",
      "\u001b[1;31mValueError\u001b[0m: Unknown label type: (array([3, 3, 3, ..., 2, 3, 1], dtype=object),)"
     ]
    }
   ],
   "source": [
    "from sklearn.naive_bayes import MultinomialNB\n",
    "clf = MultinomialNB().fit(X_train_tfidf, y_train)"
   ]
  },
  {
   "cell_type": "code",
   "execution_count": 177,
   "metadata": {},
   "outputs": [],
   "source": [
    "from sklearn.pipeline import Pipeline\n",
    "text_clf = Pipeline([\n",
    "    ('vect', CountVectorizer()),\n",
    "    ('tfidf', TfidfTransformer()),\n",
    "    ('clf', MultinomialNB()),\n",
    "])"
   ]
  },
  {
   "cell_type": "code",
   "execution_count": 178,
   "metadata": {},
   "outputs": [
    {
     "ename": "ValueError",
     "evalue": "Unknown label type: (array([3, 3, 3, ..., 2, 3, 1], dtype=object),)",
     "output_type": "error",
     "traceback": [
      "\u001b[1;31m---------------------------------------------------------------------------\u001b[0m",
      "\u001b[1;31mValueError\u001b[0m                                Traceback (most recent call last)",
      "\u001b[1;32m<ipython-input-178-6390603fde89>\u001b[0m in \u001b[0;36m<module>\u001b[1;34m()\u001b[0m\n\u001b[1;32m----> 1\u001b[1;33m \u001b[0mtext_clf\u001b[0m\u001b[1;33m.\u001b[0m\u001b[0mfit\u001b[0m\u001b[1;33m(\u001b[0m\u001b[0mX_train\u001b[0m\u001b[1;33m,\u001b[0m \u001b[0my_train\u001b[0m\u001b[1;33m)\u001b[0m\u001b[1;33m\u001b[0m\u001b[1;33m\u001b[0m\u001b[0m\n\u001b[0m",
      "\u001b[1;32mC:\\Users\\clewe\\anaconda3\\envs\\PythonAdv\\lib\\site-packages\\sklearn\\pipeline.py\u001b[0m in \u001b[0;36mfit\u001b[1;34m(self, X, y, **fit_params)\u001b[0m\n\u001b[0;32m    333\u001b[0m             \u001b[1;32mif\u001b[0m \u001b[0mself\u001b[0m\u001b[1;33m.\u001b[0m\u001b[0m_final_estimator\u001b[0m \u001b[1;33m!=\u001b[0m \u001b[1;34m'passthrough'\u001b[0m\u001b[1;33m:\u001b[0m\u001b[1;33m\u001b[0m\u001b[1;33m\u001b[0m\u001b[0m\n\u001b[0;32m    334\u001b[0m                 \u001b[0mfit_params_last_step\u001b[0m \u001b[1;33m=\u001b[0m \u001b[0mfit_params_steps\u001b[0m\u001b[1;33m[\u001b[0m\u001b[0mself\u001b[0m\u001b[1;33m.\u001b[0m\u001b[0msteps\u001b[0m\u001b[1;33m[\u001b[0m\u001b[1;33m-\u001b[0m\u001b[1;36m1\u001b[0m\u001b[1;33m]\u001b[0m\u001b[1;33m[\u001b[0m\u001b[1;36m0\u001b[0m\u001b[1;33m]\u001b[0m\u001b[1;33m]\u001b[0m\u001b[1;33m\u001b[0m\u001b[1;33m\u001b[0m\u001b[0m\n\u001b[1;32m--> 335\u001b[1;33m                 \u001b[0mself\u001b[0m\u001b[1;33m.\u001b[0m\u001b[0m_final_estimator\u001b[0m\u001b[1;33m.\u001b[0m\u001b[0mfit\u001b[0m\u001b[1;33m(\u001b[0m\u001b[0mXt\u001b[0m\u001b[1;33m,\u001b[0m \u001b[0my\u001b[0m\u001b[1;33m,\u001b[0m \u001b[1;33m**\u001b[0m\u001b[0mfit_params_last_step\u001b[0m\u001b[1;33m)\u001b[0m\u001b[1;33m\u001b[0m\u001b[1;33m\u001b[0m\u001b[0m\n\u001b[0m\u001b[0;32m    336\u001b[0m \u001b[1;33m\u001b[0m\u001b[0m\n\u001b[0;32m    337\u001b[0m         \u001b[1;32mreturn\u001b[0m \u001b[0mself\u001b[0m\u001b[1;33m\u001b[0m\u001b[1;33m\u001b[0m\u001b[0m\n",
      "\u001b[1;32mC:\\Users\\clewe\\anaconda3\\envs\\PythonAdv\\lib\\site-packages\\sklearn\\naive_bayes.py\u001b[0m in \u001b[0;36mfit\u001b[1;34m(self, X, y, sample_weight)\u001b[0m\n\u001b[0;32m    618\u001b[0m \u001b[1;33m\u001b[0m\u001b[0m\n\u001b[0;32m    619\u001b[0m         \u001b[0mlabelbin\u001b[0m \u001b[1;33m=\u001b[0m \u001b[0mLabelBinarizer\u001b[0m\u001b[1;33m(\u001b[0m\u001b[1;33m)\u001b[0m\u001b[1;33m\u001b[0m\u001b[1;33m\u001b[0m\u001b[0m\n\u001b[1;32m--> 620\u001b[1;33m         \u001b[0mY\u001b[0m \u001b[1;33m=\u001b[0m \u001b[0mlabelbin\u001b[0m\u001b[1;33m.\u001b[0m\u001b[0mfit_transform\u001b[0m\u001b[1;33m(\u001b[0m\u001b[0my\u001b[0m\u001b[1;33m)\u001b[0m\u001b[1;33m\u001b[0m\u001b[1;33m\u001b[0m\u001b[0m\n\u001b[0m\u001b[0;32m    621\u001b[0m         \u001b[0mself\u001b[0m\u001b[1;33m.\u001b[0m\u001b[0mclasses_\u001b[0m \u001b[1;33m=\u001b[0m \u001b[0mlabelbin\u001b[0m\u001b[1;33m.\u001b[0m\u001b[0mclasses_\u001b[0m\u001b[1;33m\u001b[0m\u001b[1;33m\u001b[0m\u001b[0m\n\u001b[0;32m    622\u001b[0m         \u001b[1;32mif\u001b[0m \u001b[0mY\u001b[0m\u001b[1;33m.\u001b[0m\u001b[0mshape\u001b[0m\u001b[1;33m[\u001b[0m\u001b[1;36m1\u001b[0m\u001b[1;33m]\u001b[0m \u001b[1;33m==\u001b[0m \u001b[1;36m1\u001b[0m\u001b[1;33m:\u001b[0m\u001b[1;33m\u001b[0m\u001b[1;33m\u001b[0m\u001b[0m\n",
      "\u001b[1;32mC:\\Users\\clewe\\anaconda3\\envs\\PythonAdv\\lib\\site-packages\\sklearn\\preprocessing\\_label.py\u001b[0m in \u001b[0;36mfit_transform\u001b[1;34m(self, y)\u001b[0m\n\u001b[0;32m    458\u001b[0m             \u001b[0mShape\u001b[0m \u001b[0mwill\u001b[0m \u001b[0mbe\u001b[0m \u001b[1;33m[\u001b[0m\u001b[0mn_samples\u001b[0m\u001b[1;33m,\u001b[0m \u001b[1;36m1\u001b[0m\u001b[1;33m]\u001b[0m \u001b[1;32mfor\u001b[0m \u001b[0mbinary\u001b[0m \u001b[0mproblems\u001b[0m\u001b[1;33m.\u001b[0m\u001b[1;33m\u001b[0m\u001b[1;33m\u001b[0m\u001b[0m\n\u001b[0;32m    459\u001b[0m         \"\"\"\n\u001b[1;32m--> 460\u001b[1;33m         \u001b[1;32mreturn\u001b[0m \u001b[0mself\u001b[0m\u001b[1;33m.\u001b[0m\u001b[0mfit\u001b[0m\u001b[1;33m(\u001b[0m\u001b[0my\u001b[0m\u001b[1;33m)\u001b[0m\u001b[1;33m.\u001b[0m\u001b[0mtransform\u001b[0m\u001b[1;33m(\u001b[0m\u001b[0my\u001b[0m\u001b[1;33m)\u001b[0m\u001b[1;33m\u001b[0m\u001b[1;33m\u001b[0m\u001b[0m\n\u001b[0m\u001b[0;32m    461\u001b[0m \u001b[1;33m\u001b[0m\u001b[0m\n\u001b[0;32m    462\u001b[0m     \u001b[1;32mdef\u001b[0m \u001b[0mtransform\u001b[0m\u001b[1;33m(\u001b[0m\u001b[0mself\u001b[0m\u001b[1;33m,\u001b[0m \u001b[0my\u001b[0m\u001b[1;33m)\u001b[0m\u001b[1;33m:\u001b[0m\u001b[1;33m\u001b[0m\u001b[1;33m\u001b[0m\u001b[0m\n",
      "\u001b[1;32mC:\\Users\\clewe\\anaconda3\\envs\\PythonAdv\\lib\\site-packages\\sklearn\\preprocessing\\_label.py\u001b[0m in \u001b[0;36mfit\u001b[1;34m(self, y)\u001b[0m\n\u001b[0;32m    435\u001b[0m \u001b[1;33m\u001b[0m\u001b[0m\n\u001b[0;32m    436\u001b[0m         \u001b[0mself\u001b[0m\u001b[1;33m.\u001b[0m\u001b[0msparse_input_\u001b[0m \u001b[1;33m=\u001b[0m \u001b[0msp\u001b[0m\u001b[1;33m.\u001b[0m\u001b[0missparse\u001b[0m\u001b[1;33m(\u001b[0m\u001b[0my\u001b[0m\u001b[1;33m)\u001b[0m\u001b[1;33m\u001b[0m\u001b[1;33m\u001b[0m\u001b[0m\n\u001b[1;32m--> 437\u001b[1;33m         \u001b[0mself\u001b[0m\u001b[1;33m.\u001b[0m\u001b[0mclasses_\u001b[0m \u001b[1;33m=\u001b[0m \u001b[0munique_labels\u001b[0m\u001b[1;33m(\u001b[0m\u001b[0my\u001b[0m\u001b[1;33m)\u001b[0m\u001b[1;33m\u001b[0m\u001b[1;33m\u001b[0m\u001b[0m\n\u001b[0m\u001b[0;32m    438\u001b[0m         \u001b[1;32mreturn\u001b[0m \u001b[0mself\u001b[0m\u001b[1;33m\u001b[0m\u001b[1;33m\u001b[0m\u001b[0m\n\u001b[0;32m    439\u001b[0m \u001b[1;33m\u001b[0m\u001b[0m\n",
      "\u001b[1;32mC:\\Users\\clewe\\anaconda3\\envs\\PythonAdv\\lib\\site-packages\\sklearn\\utils\\multiclass.py\u001b[0m in \u001b[0;36munique_labels\u001b[1;34m(*ys)\u001b[0m\n\u001b[0;32m     95\u001b[0m     \u001b[0m_unique_labels\u001b[0m \u001b[1;33m=\u001b[0m \u001b[0m_FN_UNIQUE_LABELS\u001b[0m\u001b[1;33m.\u001b[0m\u001b[0mget\u001b[0m\u001b[1;33m(\u001b[0m\u001b[0mlabel_type\u001b[0m\u001b[1;33m,\u001b[0m \u001b[1;32mNone\u001b[0m\u001b[1;33m)\u001b[0m\u001b[1;33m\u001b[0m\u001b[1;33m\u001b[0m\u001b[0m\n\u001b[0;32m     96\u001b[0m     \u001b[1;32mif\u001b[0m \u001b[1;32mnot\u001b[0m \u001b[0m_unique_labels\u001b[0m\u001b[1;33m:\u001b[0m\u001b[1;33m\u001b[0m\u001b[1;33m\u001b[0m\u001b[0m\n\u001b[1;32m---> 97\u001b[1;33m         \u001b[1;32mraise\u001b[0m \u001b[0mValueError\u001b[0m\u001b[1;33m(\u001b[0m\u001b[1;34m\"Unknown label type: %s\"\u001b[0m \u001b[1;33m%\u001b[0m \u001b[0mrepr\u001b[0m\u001b[1;33m(\u001b[0m\u001b[0mys\u001b[0m\u001b[1;33m)\u001b[0m\u001b[1;33m)\u001b[0m\u001b[1;33m\u001b[0m\u001b[1;33m\u001b[0m\u001b[0m\n\u001b[0m\u001b[0;32m     98\u001b[0m \u001b[1;33m\u001b[0m\u001b[0m\n\u001b[0;32m     99\u001b[0m     \u001b[0mys_labels\u001b[0m \u001b[1;33m=\u001b[0m \u001b[0mset\u001b[0m\u001b[1;33m(\u001b[0m\u001b[0mchain\u001b[0m\u001b[1;33m.\u001b[0m\u001b[0mfrom_iterable\u001b[0m\u001b[1;33m(\u001b[0m\u001b[0m_unique_labels\u001b[0m\u001b[1;33m(\u001b[0m\u001b[0my\u001b[0m\u001b[1;33m)\u001b[0m \u001b[1;32mfor\u001b[0m \u001b[0my\u001b[0m \u001b[1;32min\u001b[0m \u001b[0mys\u001b[0m\u001b[1;33m)\u001b[0m\u001b[1;33m)\u001b[0m\u001b[1;33m\u001b[0m\u001b[1;33m\u001b[0m\u001b[0m\n",
      "\u001b[1;31mValueError\u001b[0m: Unknown label type: (array([3, 3, 3, ..., 2, 3, 1], dtype=object),)"
     ]
    }
   ],
   "source": [
    "text_clf.fit(X_train, y_train)"
   ]
  },
  {
   "cell_type": "code",
   "execution_count": 179,
   "metadata": {},
   "outputs": [
    {
     "ename": "AttributeError",
     "evalue": "'MultinomialNB' object has no attribute 'feature_log_prob_'",
     "output_type": "error",
     "traceback": [
      "\u001b[1;31m---------------------------------------------------------------------------\u001b[0m",
      "\u001b[1;31mAttributeError\u001b[0m                            Traceback (most recent call last)",
      "\u001b[1;32m<ipython-input-179-bdc1f6b6e829>\u001b[0m in \u001b[0;36m<module>\u001b[1;34m()\u001b[0m\n\u001b[0;32m      1\u001b[0m \u001b[1;32mimport\u001b[0m \u001b[0mnumpy\u001b[0m \u001b[1;32mas\u001b[0m \u001b[0mnp\u001b[0m\u001b[1;33m\u001b[0m\u001b[1;33m\u001b[0m\u001b[0m\n\u001b[1;32m----> 2\u001b[1;33m \u001b[0mpredicted\u001b[0m \u001b[1;33m=\u001b[0m \u001b[0mtext_clf\u001b[0m\u001b[1;33m.\u001b[0m\u001b[0mpredict\u001b[0m\u001b[1;33m(\u001b[0m\u001b[0mX_test\u001b[0m\u001b[1;33m)\u001b[0m\u001b[1;33m\u001b[0m\u001b[1;33m\u001b[0m\u001b[0m\n\u001b[0m\u001b[0;32m      3\u001b[0m \u001b[0mnp\u001b[0m\u001b[1;33m.\u001b[0m\u001b[0mmean\u001b[0m\u001b[1;33m(\u001b[0m\u001b[0mpredicted\u001b[0m \u001b[1;33m==\u001b[0m \u001b[0my_test\u001b[0m\u001b[1;33m)\u001b[0m\u001b[1;33m\u001b[0m\u001b[1;33m\u001b[0m\u001b[0m\n",
      "\u001b[1;32mC:\\Users\\clewe\\anaconda3\\envs\\PythonAdv\\lib\\site-packages\\sklearn\\utils\\metaestimators.py\u001b[0m in \u001b[0;36m<lambda>\u001b[1;34m(*args, **kwargs)\u001b[0m\n\u001b[0;32m    117\u001b[0m \u001b[1;33m\u001b[0m\u001b[0m\n\u001b[0;32m    118\u001b[0m         \u001b[1;31m# lambda, but not partial, allows help() to work with update_wrapper\u001b[0m\u001b[1;33m\u001b[0m\u001b[1;33m\u001b[0m\u001b[1;33m\u001b[0m\u001b[0m\n\u001b[1;32m--> 119\u001b[1;33m         \u001b[0mout\u001b[0m \u001b[1;33m=\u001b[0m \u001b[1;32mlambda\u001b[0m \u001b[1;33m*\u001b[0m\u001b[0margs\u001b[0m\u001b[1;33m,\u001b[0m \u001b[1;33m**\u001b[0m\u001b[0mkwargs\u001b[0m\u001b[1;33m:\u001b[0m \u001b[0mself\u001b[0m\u001b[1;33m.\u001b[0m\u001b[0mfn\u001b[0m\u001b[1;33m(\u001b[0m\u001b[0mobj\u001b[0m\u001b[1;33m,\u001b[0m \u001b[1;33m*\u001b[0m\u001b[0margs\u001b[0m\u001b[1;33m,\u001b[0m \u001b[1;33m**\u001b[0m\u001b[0mkwargs\u001b[0m\u001b[1;33m)\u001b[0m\u001b[1;33m\u001b[0m\u001b[1;33m\u001b[0m\u001b[0m\n\u001b[0m\u001b[0;32m    120\u001b[0m         \u001b[1;31m# update the docstring of the returned function\u001b[0m\u001b[1;33m\u001b[0m\u001b[1;33m\u001b[0m\u001b[1;33m\u001b[0m\u001b[0m\n\u001b[0;32m    121\u001b[0m         \u001b[0mupdate_wrapper\u001b[0m\u001b[1;33m(\u001b[0m\u001b[0mout\u001b[0m\u001b[1;33m,\u001b[0m \u001b[0mself\u001b[0m\u001b[1;33m.\u001b[0m\u001b[0mfn\u001b[0m\u001b[1;33m)\u001b[0m\u001b[1;33m\u001b[0m\u001b[1;33m\u001b[0m\u001b[0m\n",
      "\u001b[1;32mC:\\Users\\clewe\\anaconda3\\envs\\PythonAdv\\lib\\site-packages\\sklearn\\pipeline.py\u001b[0m in \u001b[0;36mpredict\u001b[1;34m(self, X, **predict_params)\u001b[0m\n\u001b[0;32m    406\u001b[0m         \u001b[1;32mfor\u001b[0m \u001b[0m_\u001b[0m\u001b[1;33m,\u001b[0m \u001b[0mname\u001b[0m\u001b[1;33m,\u001b[0m \u001b[0mtransform\u001b[0m \u001b[1;32min\u001b[0m \u001b[0mself\u001b[0m\u001b[1;33m.\u001b[0m\u001b[0m_iter\u001b[0m\u001b[1;33m(\u001b[0m\u001b[0mwith_final\u001b[0m\u001b[1;33m=\u001b[0m\u001b[1;32mFalse\u001b[0m\u001b[1;33m)\u001b[0m\u001b[1;33m:\u001b[0m\u001b[1;33m\u001b[0m\u001b[1;33m\u001b[0m\u001b[0m\n\u001b[0;32m    407\u001b[0m             \u001b[0mXt\u001b[0m \u001b[1;33m=\u001b[0m \u001b[0mtransform\u001b[0m\u001b[1;33m.\u001b[0m\u001b[0mtransform\u001b[0m\u001b[1;33m(\u001b[0m\u001b[0mXt\u001b[0m\u001b[1;33m)\u001b[0m\u001b[1;33m\u001b[0m\u001b[1;33m\u001b[0m\u001b[0m\n\u001b[1;32m--> 408\u001b[1;33m         \u001b[1;32mreturn\u001b[0m \u001b[0mself\u001b[0m\u001b[1;33m.\u001b[0m\u001b[0msteps\u001b[0m\u001b[1;33m[\u001b[0m\u001b[1;33m-\u001b[0m\u001b[1;36m1\u001b[0m\u001b[1;33m]\u001b[0m\u001b[1;33m[\u001b[0m\u001b[1;33m-\u001b[0m\u001b[1;36m1\u001b[0m\u001b[1;33m]\u001b[0m\u001b[1;33m.\u001b[0m\u001b[0mpredict\u001b[0m\u001b[1;33m(\u001b[0m\u001b[0mXt\u001b[0m\u001b[1;33m,\u001b[0m \u001b[1;33m**\u001b[0m\u001b[0mpredict_params\u001b[0m\u001b[1;33m)\u001b[0m\u001b[1;33m\u001b[0m\u001b[1;33m\u001b[0m\u001b[0m\n\u001b[0m\u001b[0;32m    409\u001b[0m \u001b[1;33m\u001b[0m\u001b[0m\n\u001b[0;32m    410\u001b[0m     \u001b[1;33m@\u001b[0m\u001b[0mif_delegate_has_method\u001b[0m\u001b[1;33m(\u001b[0m\u001b[0mdelegate\u001b[0m\u001b[1;33m=\u001b[0m\u001b[1;34m'_final_estimator'\u001b[0m\u001b[1;33m)\u001b[0m\u001b[1;33m\u001b[0m\u001b[1;33m\u001b[0m\u001b[0m\n",
      "\u001b[1;32mC:\\Users\\clewe\\anaconda3\\envs\\PythonAdv\\lib\\site-packages\\sklearn\\naive_bayes.py\u001b[0m in \u001b[0;36mpredict\u001b[1;34m(self, X)\u001b[0m\n\u001b[0;32m     76\u001b[0m         \u001b[0mcheck_is_fitted\u001b[0m\u001b[1;33m(\u001b[0m\u001b[0mself\u001b[0m\u001b[1;33m)\u001b[0m\u001b[1;33m\u001b[0m\u001b[1;33m\u001b[0m\u001b[0m\n\u001b[0;32m     77\u001b[0m         \u001b[0mX\u001b[0m \u001b[1;33m=\u001b[0m \u001b[0mself\u001b[0m\u001b[1;33m.\u001b[0m\u001b[0m_check_X\u001b[0m\u001b[1;33m(\u001b[0m\u001b[0mX\u001b[0m\u001b[1;33m)\u001b[0m\u001b[1;33m\u001b[0m\u001b[1;33m\u001b[0m\u001b[0m\n\u001b[1;32m---> 78\u001b[1;33m         \u001b[0mjll\u001b[0m \u001b[1;33m=\u001b[0m \u001b[0mself\u001b[0m\u001b[1;33m.\u001b[0m\u001b[0m_joint_log_likelihood\u001b[0m\u001b[1;33m(\u001b[0m\u001b[0mX\u001b[0m\u001b[1;33m)\u001b[0m\u001b[1;33m\u001b[0m\u001b[1;33m\u001b[0m\u001b[0m\n\u001b[0m\u001b[0;32m     79\u001b[0m         \u001b[1;32mreturn\u001b[0m \u001b[0mself\u001b[0m\u001b[1;33m.\u001b[0m\u001b[0mclasses_\u001b[0m\u001b[1;33m[\u001b[0m\u001b[0mnp\u001b[0m\u001b[1;33m.\u001b[0m\u001b[0margmax\u001b[0m\u001b[1;33m(\u001b[0m\u001b[0mjll\u001b[0m\u001b[1;33m,\u001b[0m \u001b[0maxis\u001b[0m\u001b[1;33m=\u001b[0m\u001b[1;36m1\u001b[0m\u001b[1;33m)\u001b[0m\u001b[1;33m]\u001b[0m\u001b[1;33m\u001b[0m\u001b[1;33m\u001b[0m\u001b[0m\n\u001b[0;32m     80\u001b[0m \u001b[1;33m\u001b[0m\u001b[0m\n",
      "\u001b[1;32mC:\\Users\\clewe\\anaconda3\\envs\\PythonAdv\\lib\\site-packages\\sklearn\\naive_bayes.py\u001b[0m in \u001b[0;36m_joint_log_likelihood\u001b[1;34m(self, X)\u001b[0m\n\u001b[0;32m    775\u001b[0m     \u001b[1;32mdef\u001b[0m \u001b[0m_joint_log_likelihood\u001b[0m\u001b[1;33m(\u001b[0m\u001b[0mself\u001b[0m\u001b[1;33m,\u001b[0m \u001b[0mX\u001b[0m\u001b[1;33m)\u001b[0m\u001b[1;33m:\u001b[0m\u001b[1;33m\u001b[0m\u001b[1;33m\u001b[0m\u001b[0m\n\u001b[0;32m    776\u001b[0m         \u001b[1;34m\"\"\"Calculate the posterior log probability of the samples X\"\"\"\u001b[0m\u001b[1;33m\u001b[0m\u001b[1;33m\u001b[0m\u001b[0m\n\u001b[1;32m--> 777\u001b[1;33m         return (safe_sparse_dot(X, self.feature_log_prob_.T) +\n\u001b[0m\u001b[0;32m    778\u001b[0m                 self.class_log_prior_)\n\u001b[0;32m    779\u001b[0m \u001b[1;33m\u001b[0m\u001b[0m\n",
      "\u001b[1;31mAttributeError\u001b[0m: 'MultinomialNB' object has no attribute 'feature_log_prob_'"
     ]
    }
   ],
   "source": [
    "import numpy as np\n",
    "predicted = text_clf.predict(X_test)\n",
    "np.mean(predicted == y_test)"
   ]
  },
  {
   "cell_type": "code",
   "execution_count": 180,
   "metadata": {},
   "outputs": [
    {
     "data": {
      "text/plain": [
       "(array([0.50076724, 0.69700966, 0.70574692, ..., 4.00000001, 4.00909644,\n",
       "        4.04057295]), array([1, 1, 1, ..., 1, 1, 1], dtype=int64))"
      ]
     },
     "execution_count": 180,
     "metadata": {},
     "output_type": "execute_result"
    }
   ],
   "source": [
    "np.unique(predicted, return_counts=True)"
   ]
  },
  {
   "cell_type": "code",
   "execution_count": 181,
   "metadata": {},
   "outputs": [
    {
     "data": {
      "text/plain": [
       "2.9327180909257518"
      ]
     },
     "execution_count": 181,
     "metadata": {},
     "output_type": "execute_result"
    }
   ],
   "source": [
    "predicted[0]"
   ]
  },
  {
   "cell_type": "code",
   "execution_count": 182,
   "metadata": {},
   "outputs": [
    {
     "data": {
      "text/plain": [
       "<2817x19502 sparse matrix of type '<class 'numpy.float64'>'\n",
       "\twith 256969 stored elements in Compressed Sparse Row format>"
      ]
     },
     "execution_count": 182,
     "metadata": {},
     "output_type": "execute_result"
    }
   ],
   "source": [
    "X_train_tfidf"
   ]
  },
  {
   "cell_type": "code",
   "execution_count": 183,
   "metadata": {},
   "outputs": [
    {
     "ename": "ValueError",
     "evalue": "Unknown label type: 'unknown'",
     "output_type": "error",
     "traceback": [
      "\u001b[1;31m---------------------------------------------------------------------------\u001b[0m",
      "\u001b[1;31mValueError\u001b[0m                                Traceback (most recent call last)",
      "\u001b[1;32m<ipython-input-183-270a6d4b69da>\u001b[0m in \u001b[0;36m<module>\u001b[1;34m()\u001b[0m\n\u001b[0;32m      8\u001b[0m \u001b[1;33m\u001b[0m\u001b[0m\n\u001b[0;32m      9\u001b[0m \u001b[0mclf\u001b[0m \u001b[1;33m=\u001b[0m \u001b[0mtree\u001b[0m\u001b[1;33m.\u001b[0m\u001b[0mDecisionTreeClassifier\u001b[0m\u001b[1;33m(\u001b[0m\u001b[1;33m)\u001b[0m\u001b[1;33m\u001b[0m\u001b[1;33m\u001b[0m\u001b[0m\n\u001b[1;32m---> 10\u001b[1;33m \u001b[0mclf\u001b[0m \u001b[1;33m=\u001b[0m \u001b[0mclf\u001b[0m\u001b[1;33m.\u001b[0m\u001b[0mfit\u001b[0m\u001b[1;33m(\u001b[0m\u001b[0mvectors_train\u001b[0m\u001b[1;33m,\u001b[0m \u001b[0my_train\u001b[0m\u001b[1;33m)\u001b[0m\u001b[1;33m\u001b[0m\u001b[1;33m\u001b[0m\u001b[0m\n\u001b[0m\u001b[0;32m     11\u001b[0m \u001b[1;33m\u001b[0m\u001b[0m\n\u001b[0;32m     12\u001b[0m \u001b[0mrf\u001b[0m \u001b[1;33m=\u001b[0m \u001b[0mRandomForestClassifier\u001b[0m\u001b[1;33m(\u001b[0m\u001b[0mn_estimators\u001b[0m\u001b[1;33m=\u001b[0m\u001b[1;36m500\u001b[0m\u001b[1;33m)\u001b[0m\u001b[1;33m\u001b[0m\u001b[1;33m\u001b[0m\u001b[0m\n",
      "\u001b[1;32mC:\\Users\\clewe\\anaconda3\\envs\\PythonAdv\\lib\\site-packages\\sklearn\\tree\\_classes.py\u001b[0m in \u001b[0;36mfit\u001b[1;34m(self, X, y, sample_weight, check_input, X_idx_sorted)\u001b[0m\n\u001b[0;32m    892\u001b[0m             \u001b[0msample_weight\u001b[0m\u001b[1;33m=\u001b[0m\u001b[0msample_weight\u001b[0m\u001b[1;33m,\u001b[0m\u001b[1;33m\u001b[0m\u001b[1;33m\u001b[0m\u001b[0m\n\u001b[0;32m    893\u001b[0m             \u001b[0mcheck_input\u001b[0m\u001b[1;33m=\u001b[0m\u001b[0mcheck_input\u001b[0m\u001b[1;33m,\u001b[0m\u001b[1;33m\u001b[0m\u001b[1;33m\u001b[0m\u001b[0m\n\u001b[1;32m--> 894\u001b[1;33m             X_idx_sorted=X_idx_sorted)\n\u001b[0m\u001b[0;32m    895\u001b[0m         \u001b[1;32mreturn\u001b[0m \u001b[0mself\u001b[0m\u001b[1;33m\u001b[0m\u001b[1;33m\u001b[0m\u001b[0m\n\u001b[0;32m    896\u001b[0m \u001b[1;33m\u001b[0m\u001b[0m\n",
      "\u001b[1;32mC:\\Users\\clewe\\anaconda3\\envs\\PythonAdv\\lib\\site-packages\\sklearn\\tree\\_classes.py\u001b[0m in \u001b[0;36mfit\u001b[1;34m(self, X, y, sample_weight, check_input, X_idx_sorted)\u001b[0m\n\u001b[0;32m    179\u001b[0m \u001b[1;33m\u001b[0m\u001b[0m\n\u001b[0;32m    180\u001b[0m         \u001b[1;32mif\u001b[0m \u001b[0mis_classification\u001b[0m\u001b[1;33m:\u001b[0m\u001b[1;33m\u001b[0m\u001b[1;33m\u001b[0m\u001b[0m\n\u001b[1;32m--> 181\u001b[1;33m             \u001b[0mcheck_classification_targets\u001b[0m\u001b[1;33m(\u001b[0m\u001b[0my\u001b[0m\u001b[1;33m)\u001b[0m\u001b[1;33m\u001b[0m\u001b[1;33m\u001b[0m\u001b[0m\n\u001b[0m\u001b[0;32m    182\u001b[0m             \u001b[0my\u001b[0m \u001b[1;33m=\u001b[0m \u001b[0mnp\u001b[0m\u001b[1;33m.\u001b[0m\u001b[0mcopy\u001b[0m\u001b[1;33m(\u001b[0m\u001b[0my\u001b[0m\u001b[1;33m)\u001b[0m\u001b[1;33m\u001b[0m\u001b[1;33m\u001b[0m\u001b[0m\n\u001b[0;32m    183\u001b[0m \u001b[1;33m\u001b[0m\u001b[0m\n",
      "\u001b[1;32mC:\\Users\\clewe\\anaconda3\\envs\\PythonAdv\\lib\\site-packages\\sklearn\\utils\\multiclass.py\u001b[0m in \u001b[0;36mcheck_classification_targets\u001b[1;34m(y)\u001b[0m\n\u001b[0;32m    170\u001b[0m     if y_type not in ['binary', 'multiclass', 'multiclass-multioutput',\n\u001b[0;32m    171\u001b[0m                       'multilabel-indicator', 'multilabel-sequences']:\n\u001b[1;32m--> 172\u001b[1;33m         \u001b[1;32mraise\u001b[0m \u001b[0mValueError\u001b[0m\u001b[1;33m(\u001b[0m\u001b[1;34m\"Unknown label type: %r\"\u001b[0m \u001b[1;33m%\u001b[0m \u001b[0my_type\u001b[0m\u001b[1;33m)\u001b[0m\u001b[1;33m\u001b[0m\u001b[1;33m\u001b[0m\u001b[0m\n\u001b[0m\u001b[0;32m    173\u001b[0m \u001b[1;33m\u001b[0m\u001b[0m\n\u001b[0;32m    174\u001b[0m \u001b[1;33m\u001b[0m\u001b[0m\n",
      "\u001b[1;31mValueError\u001b[0m: Unknown label type: 'unknown'"
     ]
    }
   ],
   "source": [
    "from sklearn import tree\n",
    "from sklearn.metrics import accuracy_score\n",
    "from sklearn.feature_extraction.text import TfidfVectorizer\n",
    "\n",
    "vectorizer = TfidfVectorizer(ngram_range=(1,2))\n",
    "vectors_train = vectorizer.fit_transform(X_train)\n",
    "vectors_test = vectorizer.transform(X_test)\n",
    "\n",
    "clf = tree.DecisionTreeClassifier()\n",
    "clf = clf.fit(vectors_train, y_train)\n",
    "\n",
    "rf = RandomForestClassifier(n_estimators=500)\n",
    "rf = rf.fit(vectors_train, y_train)\n",
    "\n",
    "#prediction\n",
    "pred=clf.predict(vectors_test)\n",
    "pred2=rf.predict(vectors_test)\n",
    "#print accuracy\n",
    "\n",
    "print (accuracy_score(pred,y_test))\n",
    "print (accuracy_score(pred2,y_test))\n"
   ]
  },
  {
   "cell_type": "code",
   "execution_count": 138,
   "metadata": {},
   "outputs": [
    {
     "data": {
      "text/plain": [
       "'https://images.igdb.com/igdb/image/upload/t_cover_big/bednwmhu1uqffcpbbcsp.jpg'"
      ]
     },
     "execution_count": 138,
     "metadata": {},
     "output_type": "execute_result"
    }
   ],
   "source": [
    "data['imageLink'][400]"
   ]
  },
  {
   "cell_type": "code",
   "execution_count": 142,
   "metadata": {},
   "outputs": [
    {
     "name": "stdout",
     "output_type": "stream",
     "text": [
      "Adventure\n",
      "173\n",
      "Adventure Bar Story\n",
      "174\n",
      "Adventure Island II: Aliens in ParadiseTakahashi Meijin no Boken Jima III JPAdventure Island II EU\n",
      "175\n",
      "Adventure IslandTakahashi Meijin no Boken Jima II JP\n",
      "176\n",
      "Adventure Time: Explore the Dungeon Because I Don't Know!\n",
      "177\n",
      "Adventure Time: Finn & Jake Investigations\n",
      "178\n",
      "Adventure Time: Hey Ice King! Why'd You Steal Our Garbage?!!\n",
      "179\n",
      "Adventure Time: Pirates of the Enchiridion\n",
      "180\n",
      "Adventure Time: The Secret of the Nameless Kingdom\n",
      "181\n",
      "Adventures of Bertram Fiddle Ep 1: A Dreadly Business\n",
      "182\n",
      "Adventures of LoloLolo no Daibouken JP\n",
      "183\n",
      "Adventures of Pip\n",
      "184\n",
      "Adventures of Scarlet Curiosity\n",
      "185\n",
      "Adventures of Tintin: The Secret of the Unicorn, The\n",
      "186\n",
      "Aery: Little Bird Adventure\n",
      "197\n",
      "Angry Video Game Nerd Adventures\n",
      "339\n",
      "Atelier Totori: The Adventurer of Arland\n",
      "508\n",
      "Beetle Adventure Racing!\n",
      "721\n",
      "Bill & Ted's Excellent Game Boy Adventure: A Bogus Journey!\n",
      "774\n",
      "Bonk's AdventureGB Genjin JPB.C. Kid EU\n",
      "955\n",
      "Boogerman: A Pick and Flick Adventure\n",
      "957\n",
      "Boomer's Adventure in ASMIK WorldTeke! Teke! Asmik\n",
      "965\n",
      "Broken Age: The Complete Adventure\n",
      "1026\n",
      "Cabela's Adventure Camp\n",
      "1125\n",
      "Cabela's African Adventures\n",
      "1126\n",
      "Cabela's Big Game Hunter 2005 Adventures\n",
      "1128\n",
      "Cabela's North American Adventures\n",
      "1138\n",
      "Cabela's Outdoor Adventures\n",
      "1139\n",
      "Cabela's Outdoor Adventures \n",
      "1140\n",
      "Cabela's Outdoor Adventures \n",
      "1141\n",
      "Calamity Adventure 1: The Natural World\n",
      "1157\n",
      "Calamity Adventure 2: People and Traditions\n",
      "1158\n",
      "Calamity Adventure 3: Around the World\n",
      "1159\n",
      "Castlevania: The AdventureDracula Densetsu JP\n",
      "1287\n",
      "Crash Bandicoot: The Huge AdventureNA\n",
      "1554\n",
      "Crazy Chicken Adventure: The Pharaoh's Treasure\n",
      "1578\n",
      "Dasshutsu Adventure: Majo no Sumu Yakata\n",
      "1770\n",
      "Deadfall Adventures\n",
      "1835\n",
      "Demetrios: The Big Cynical Adventure\n",
      "1906\n",
      "Disney Princess: My Fairytale Adventure\n",
      "2068\n",
      "Disney's Beauty & The Beast: A Boardgame Adventure\n",
      "2083\n",
      "Disney's Extreme Skate Adventure\n",
      "2088\n",
      "Disney's Winnie The Pooh's Rumbly Tumbly Adventure\n",
      "2106\n",
      "Disneyland Adventures Remastered\n",
      "2120\n",
      "Dora's World Adventure\n",
      "2216\n",
      "Dragon Ball: Advanced Adventure\n",
      "2301\n",
      "Finding Nemo: The Continuing Adventure\n",
      "2865\n",
      "Frogger's Adventures: The Rescue\n",
      "3014\n",
      "Frogger's Adventures: The Rescue\n",
      "3015\n",
      "Gurumin 3D: A Monstrous Adventure\n",
      "3424\n",
      "HSV Adventure Racing\n",
      "3431\n",
      "Hamilton's Great Adventure\n",
      "3452\n",
      "Herc's Adventures\n",
      "3498\n",
      "Ice Age: Scrat's Nutty Adventure\n",
      "3580\n",
      "Ice Age: Scrat’s Nutty Adventure\n",
      "3581\n",
      "Indiana Jones' Greatest Adventures\n",
      "3623\n",
      "Infinite Adventures\n",
      "3633\n",
      "Jeep Jamboree: Off Road Adventure\n",
      "3758\n",
      "Jillian Michaels' Fitness Adventure\n",
      "3803\n",
      "JoJo's Bizarre Adventure: All Star Battle\n",
      "3813\n",
      "JoJo's Bizarre Adventure: Eyes of Heaven\n",
      "3814\n",
      "JumpStart: Escape from Adventure Island\n",
      "3849\n",
      "Kachō Kōsaku Shima: Super Business Adventure\n",
      "3890\n",
      "Kaeru no Ehon: Adventure for the Lost Memories\n",
      "3891\n",
      "Kinect Adventures\n",
      "3996\n",
      "Kinect Disneyland Adventures\n",
      "3997\n",
      "Learn with Pokémon: Typing Adventure\n",
      "4220\n",
      "Lego Indiana Jones 2: The Adventure Continues\n",
      "4264\n",
      "Lego Indiana Jones: The Original Adventures\n",
      "4265\n",
      "Liquid Books: The Adventures of Adelita and Bo\n",
      "4350\n",
      "Little Big Adventure\n",
      "4354\n",
      "Marvel LandTalmit's AdventurePAL\n",
      "4689\n",
      "Maya the Bee: Garden Adventures\n",
      "4747\n",
      "Mickey Mania: The Timeless Adventures of Mickey Mouse\n",
      "4939\n",
      "Mistover: Dr. Faust's Otherworldly Adventure\n",
      "5022\n",
      "Momonga Pinball Adventures\n",
      "5036\n",
      "Mystical Ninja 2 Starring GoemonGoemon's Great AdventureNAGanbare Goemon Derodero Dōchū Obake Tenko MoriJP\n",
      "5269\n"
     ]
    }
   ],
   "source": [
    "for i in range(len(data['title'])):\n",
    "    if 'adventure' in data['title'][i].lower():\n",
    "        print(data['title'][i])\n",
    "        print(i)"
   ]
  },
  {
   "cell_type": "code",
   "execution_count": 143,
   "metadata": {},
   "outputs": [
    {
     "data": {
      "text/plain": [
       "title                                                         Adventure\n",
       "moreInfo                           https://www.igdb.com/games/adventure\n",
       "systems                                                  ['Atari 2600']\n",
       "genres                                                    ['Adventure']\n",
       "playModes                                             ['Single player']\n",
       "themes                                                      ['Fantasy']\n",
       "series                                   Scott Adams Classic Adventures\n",
       "playerPerspectives                            ['Bird view / Isometric']\n",
       "imageLink             https://images.igdb.com/igdb/image/upload/t_co...\n",
       "memberRating                                                    Alright\n",
       "gameDescription       Adventure is a video game for the Atari 2600 v...\n",
       "keywords                                                            NaN\n",
       "Name: 173, dtype: object"
      ]
     },
     "execution_count": 143,
     "metadata": {},
     "output_type": "execute_result"
    }
   ],
   "source": [
    "data.iloc[173]"
   ]
  },
  {
   "cell_type": "code",
   "execution_count": 162,
   "metadata": {},
   "outputs": [
    {
     "ename": "ValueError",
     "evalue": "Unknown label type: 'unknown'",
     "output_type": "error",
     "traceback": [
      "\u001b[1;31m---------------------------------------------------------------------------\u001b[0m",
      "\u001b[1;31mValueError\u001b[0m                                Traceback (most recent call last)",
      "\u001b[1;32m<ipython-input-162-5b0e898a9256>\u001b[0m in \u001b[0;36m<module>\u001b[1;34m()\u001b[0m\n\u001b[0;32m      5\u001b[0m \u001b[1;32mfor\u001b[0m \u001b[0mk\u001b[0m \u001b[1;32min\u001b[0m \u001b[0mrange\u001b[0m\u001b[1;33m(\u001b[0m\u001b[1;36m1\u001b[0m\u001b[1;33m,\u001b[0m \u001b[1;36m20\u001b[0m\u001b[1;33m,\u001b[0m \u001b[1;36m2\u001b[0m\u001b[1;33m)\u001b[0m\u001b[1;33m:\u001b[0m\u001b[1;33m\u001b[0m\u001b[1;33m\u001b[0m\u001b[0m\n\u001b[0;32m      6\u001b[0m     \u001b[0mknn\u001b[0m \u001b[1;33m=\u001b[0m \u001b[0mKNeighborsClassifier\u001b[0m\u001b[1;33m(\u001b[0m\u001b[0mn_neighbors\u001b[0m\u001b[1;33m=\u001b[0m\u001b[0mk\u001b[0m\u001b[1;33m)\u001b[0m\u001b[1;33m\u001b[0m\u001b[1;33m\u001b[0m\u001b[0m\n\u001b[1;32m----> 7\u001b[1;33m     \u001b[0mknn\u001b[0m\u001b[1;33m.\u001b[0m\u001b[0mfit\u001b[0m\u001b[1;33m(\u001b[0m\u001b[0mvectors_train\u001b[0m\u001b[1;33m,\u001b[0m \u001b[0my_train\u001b[0m\u001b[1;33m)\u001b[0m\u001b[1;33m\u001b[0m\u001b[1;33m\u001b[0m\u001b[0m\n\u001b[0m\u001b[0;32m      8\u001b[0m     \u001b[0mtrain_score\u001b[0m \u001b[1;33m=\u001b[0m \u001b[0mknn\u001b[0m\u001b[1;33m.\u001b[0m\u001b[0mscore\u001b[0m\u001b[1;33m(\u001b[0m\u001b[0mvectors_train\u001b[0m\u001b[1;33m,\u001b[0m \u001b[0my_train\u001b[0m\u001b[1;33m)\u001b[0m\u001b[1;33m\u001b[0m\u001b[1;33m\u001b[0m\u001b[0m\n\u001b[0;32m      9\u001b[0m     \u001b[0mtest_score\u001b[0m \u001b[1;33m=\u001b[0m \u001b[0mknn\u001b[0m\u001b[1;33m.\u001b[0m\u001b[0mscore\u001b[0m\u001b[1;33m(\u001b[0m\u001b[0mvectors_test\u001b[0m\u001b[1;33m,\u001b[0m \u001b[0my_test\u001b[0m\u001b[1;33m)\u001b[0m\u001b[1;33m\u001b[0m\u001b[1;33m\u001b[0m\u001b[0m\n",
      "\u001b[1;32mC:\\Users\\clewe\\anaconda3\\envs\\PythonAdv\\lib\\site-packages\\sklearn\\neighbors\\_base.py\u001b[0m in \u001b[0;36mfit\u001b[1;34m(self, X, y)\u001b[0m\n\u001b[0;32m   1144\u001b[0m             \u001b[0mself\u001b[0m\u001b[1;33m.\u001b[0m\u001b[0moutputs_2d_\u001b[0m \u001b[1;33m=\u001b[0m \u001b[1;32mTrue\u001b[0m\u001b[1;33m\u001b[0m\u001b[1;33m\u001b[0m\u001b[0m\n\u001b[0;32m   1145\u001b[0m \u001b[1;33m\u001b[0m\u001b[0m\n\u001b[1;32m-> 1146\u001b[1;33m         \u001b[0mcheck_classification_targets\u001b[0m\u001b[1;33m(\u001b[0m\u001b[0my\u001b[0m\u001b[1;33m)\u001b[0m\u001b[1;33m\u001b[0m\u001b[1;33m\u001b[0m\u001b[0m\n\u001b[0m\u001b[0;32m   1147\u001b[0m         \u001b[0mself\u001b[0m\u001b[1;33m.\u001b[0m\u001b[0mclasses_\u001b[0m \u001b[1;33m=\u001b[0m \u001b[1;33m[\u001b[0m\u001b[1;33m]\u001b[0m\u001b[1;33m\u001b[0m\u001b[1;33m\u001b[0m\u001b[0m\n\u001b[0;32m   1148\u001b[0m         \u001b[0mself\u001b[0m\u001b[1;33m.\u001b[0m\u001b[0m_y\u001b[0m \u001b[1;33m=\u001b[0m \u001b[0mnp\u001b[0m\u001b[1;33m.\u001b[0m\u001b[0mempty\u001b[0m\u001b[1;33m(\u001b[0m\u001b[0my\u001b[0m\u001b[1;33m.\u001b[0m\u001b[0mshape\u001b[0m\u001b[1;33m,\u001b[0m \u001b[0mdtype\u001b[0m\u001b[1;33m=\u001b[0m\u001b[0mnp\u001b[0m\u001b[1;33m.\u001b[0m\u001b[0mint\u001b[0m\u001b[1;33m)\u001b[0m\u001b[1;33m\u001b[0m\u001b[1;33m\u001b[0m\u001b[0m\n",
      "\u001b[1;32mC:\\Users\\clewe\\anaconda3\\envs\\PythonAdv\\lib\\site-packages\\sklearn\\utils\\multiclass.py\u001b[0m in \u001b[0;36mcheck_classification_targets\u001b[1;34m(y)\u001b[0m\n\u001b[0;32m    170\u001b[0m     if y_type not in ['binary', 'multiclass', 'multiclass-multioutput',\n\u001b[0;32m    171\u001b[0m                       'multilabel-indicator', 'multilabel-sequences']:\n\u001b[1;32m--> 172\u001b[1;33m         \u001b[1;32mraise\u001b[0m \u001b[0mValueError\u001b[0m\u001b[1;33m(\u001b[0m\u001b[1;34m\"Unknown label type: %r\"\u001b[0m \u001b[1;33m%\u001b[0m \u001b[0my_type\u001b[0m\u001b[1;33m)\u001b[0m\u001b[1;33m\u001b[0m\u001b[1;33m\u001b[0m\u001b[0m\n\u001b[0m\u001b[0;32m    173\u001b[0m \u001b[1;33m\u001b[0m\u001b[0m\n\u001b[0;32m    174\u001b[0m \u001b[1;33m\u001b[0m\u001b[0m\n",
      "\u001b[1;31mValueError\u001b[0m: Unknown label type: 'unknown'"
     ]
    }
   ],
   "source": [
    "import matplotlib.pyplot as plt\n",
    "from sklearn.neighbors import KNeighborsClassifier\n",
    "train_scores = []\n",
    "test_scores = []\n",
    "for k in range(1, 20, 2):\n",
    "    knn = KNeighborsClassifier(n_neighbors=k)\n",
    "    knn.fit(vectors_train, y_train)\n",
    "    train_score = knn.score(vectors_train, y_train)\n",
    "    test_score = knn.score(vectors_test, y_test)\n",
    "    train_scores.append(train_score)\n",
    "    test_scores.append(test_score)\n",
    "    print(f\"k: {k}, Train/Test Score: {train_score:.3f}/{test_score:.3f}\")\n",
    "    \n",
    "    \n",
    "plt.plot(range(1, 20, 2), train_scores, marker='o')\n",
    "plt.plot(range(1, 20, 2), test_scores, marker=\"x\")\n",
    "plt.xlabel(\"k neighbors\")\n",
    "plt.ylabel(\"Testing accuracy Score\")\n",
    "plt.show()"
   ]
  },
  {
   "cell_type": "code",
   "execution_count": 160,
   "metadata": {},
   "outputs": [
    {
     "name": "stdout",
     "output_type": "stream",
     "text": [
      "Mean Squared Error (MSE): 0.6765906213248488\n",
      "R-squared (R2 ): 0.31885383453163296\n"
     ]
    }
   ],
   "source": [
    "from sklearn.linear_model import LinearRegression\n",
    "\n",
    "model = LinearRegression()\n",
    "model.fit(vectors_train, y_train)\n",
    "LinearRegression(copy_X=True, fit_intercept=True, n_jobs=1, normalize=False)\n",
    "from sklearn.metrics import mean_squared_error, r2_score\n",
    "\n",
    "# Use our model to make predictions\n",
    "predicted = model.predict(vectors_test)\n",
    "\n",
    "# Score the predictions with mse and r2\n",
    "mse = mean_squared_error(y_test, predicted)\n",
    "r2 = r2_score(y_test, predicted)\n",
    "\n",
    "print(f\"Mean Squared Error (MSE): {mse}\")\n",
    "print(f\"R-squared (R2 ): {r2}\")\n"
   ]
  },
  {
   "cell_type": "code",
   "execution_count": null,
   "metadata": {},
   "outputs": [],
   "source": [
    "# Pandas is used for data manipulation\n",
    "import pandas as pd\n",
    "\n",
    "vectorizer = TfidfVectorizer(ngram_range=(1,2))\n",
    "vectors_train = vectorizer.fit_transform(X_train)\n",
    "vectors_test = vectorizer.transform(X_test)\n",
    "vectors = vectorizer.transform(test_df['text'])\n",
    "\n",
    "# Import the model we are using\n",
    "from sklearn.ensemble import RandomForestRegressor\n",
    "\n",
    "# Instantiate model \n",
    "rf = RandomForestRegressor(n_estimators= 10, random_state=42)\n",
    "\n",
    "# Train the model on training data\n",
    "rf.fit(vectors_train, y_train);\n",
    "\n",
    "# Use the forest's predict method on the test data\n",
    "predictions = rf.predict(vectors_test)\n",
    "\n",
    "# Calculate the absolute errors\n",
    "errors = abs(predictions - vectors_test)\n",
    "\n",
    "# Print out the mean absolute error (mae)\n",
    "print('Average model error:', round(np.mean(errors), 2), 'degrees.')\n",
    "\n",
    "# Calculate and display accuracy\n",
    "accuracy = 100 - np.mean(mape)\n",
    "print('Accuracy:', round(accuracy, 2), '%.')"
   ]
  },
  {
   "cell_type": "code",
   "execution_count": null,
   "metadata": {},
   "outputs": [],
   "source": []
  }
 ],
 "metadata": {
  "kernelspec": {
   "display_name": "Python [conda env:PythonAdv]",
   "language": "python",
   "name": "conda-env-PythonAdv-py"
  },
  "language_info": {
   "codemirror_mode": {
    "name": "ipython",
    "version": 3
   },
   "file_extension": ".py",
   "mimetype": "text/x-python",
   "name": "python",
   "nbconvert_exporter": "python",
   "pygments_lexer": "ipython3",
   "version": "3.6.12"
  }
 },
 "nbformat": 4,
 "nbformat_minor": 4
}
