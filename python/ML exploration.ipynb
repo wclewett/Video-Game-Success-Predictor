{
 "cells": [
  {
   "cell_type": "code",
   "execution_count": 26,
   "metadata": {},
   "outputs": [],
   "source": [
    "# read in testing data\n",
    "import pandas as pd\n",
    "data = pd.read_csv('test_df.csv').drop('Unnamed: 0', axis=1)\n",
    "data\n",
    "\n",
    "import numpy as np\n",
    "for i in range(len(data)):\n",
    "    data_array = []\n",
    "    data_string = ''\n",
    "    data_string = data_string + ' ' + data['gameDescription'][i]\n",
    "    try:\n",
    "        data_string = data_string + ' ' + data['series'][i]\n",
    "    except:\n",
    "        data_string = data_string + ''\n",
    "    try: \n",
    "        data_string = data_string + ' ' + data['keywords'][i]\n",
    "    except:\n",
    "        data_string = data_string + ''\n",
    "    try:\n",
    "        data_string = data_string + ' ' + data['themes'][i].replace('[', '').replace(\"'\", '').replace(\"]\", '').replace(\",\", '')\n",
    "    except:\n",
    "        data_string = data_string + ''\n",
    "    try:\n",
    "        data_string = data_string + ' ' + data['playerPerspectives'][i].replace('[', '').replace(\"'\", '').replace(\"]\", '').replace(\",\", '')\n",
    "    except:\n",
    "        data_string = data_string + ''\n",
    "    try:\n",
    "        data_string = data_string + ' ' + data['genres'][i].replace('[', '').replace(\"'\", '').replace(\"]\", '').replace(\",\", '')\n",
    "    except:\n",
    "        data_string = data_string + ''\n",
    "    try:\n",
    "        data_string = data_string + ' ' + data['playModes'][i].replace('[', '').replace(\"'\", '').replace(\"]\", '').replace(\",\", '')\n",
    "    except:\n",
    "        data_string = data_string + ''\n",
    "    try:\n",
    "        data_string = data_string + ' ' + data['systems'][i].replace('[', '').replace(\"'\", '').replace(\"]\", '').replace(\",\", '')\n",
    "    except:\n",
    "        data_string = data_string + ''\n",
    "    if data['memberRating'][i] == 'Fair':\n",
    "        rating = 1\n",
    "    elif data['memberRating'][i] == 'Alright':\n",
    "        rating = 2\n",
    "    elif data['memberRating'][i] == 'Average':\n",
    "        rating = 1\n",
    "    elif data['memberRating'][i] == 'Good':\n",
    "        rating = 3\n",
    "    elif data['memberRating'][i] == 'Great':\n",
    "        rating = 4\n",
    "    elif data['memberRating'][i] == 'Superb':\n",
    "        rating = 4\n",
    "    elif data['memberRating'][i] == 'Unimpressive':\n",
    "        rating = 1\n",
    "    elif data['memberRating'][i] == 'Very Bad':\n",
    "        rating = 1\n",
    "    elif data['memberRating'][i] == 'Bad':\n",
    "        rating = 1\n",
    "    elif data['memberRating'][i] == 'Awful':\n",
    "        rating = 1\n",
    "    data_array.append(rating)\n",
    "    data_array.append(data_string)\n",
    "    if i == 0:\n",
    "        test_df = pd.DataFrame(np.reshape(data_array, (1,2)), columns = ['rating','text'])\n",
    "    else:\n",
    "        df_length = len(test_df)\n",
    "        test_df.loc[df_length] = data_array"
   ]
  },
  {
   "cell_type": "code",
   "execution_count": 27,
   "metadata": {},
   "outputs": [],
   "source": [
    "test_df.to_csv('cleaned_test_df.csv')"
   ]
  },
  {
   "cell_type": "code",
   "execution_count": null,
   "metadata": {},
   "outputs": [],
   "source": [
    "from sklearn.feature_extraction.text import TfidfVectorizer\n",
    "tfidf_vectorizer = TfidfVectorizer(\n",
    "    min_df=1,  # min count for relevant vocabulary\n",
    "    max_features=4000,  # maximum number of features\n",
    "    strip_accents='unicode',  # replace all accented unicode char \n",
    "    # by their corresponding  ASCII char\n",
    "    analyzer='word',  # features made of words\n",
    "    token_pattern=r'\\w{1,}',  # tokenize only words of 4+ chars\n",
    "    ngram_range=(1, 1),  # features made of a single tokens\n",
    "    use_idf=True,  # enable inverse-document-frequency reweighting\n",
    "    smooth_idf=True,  # prevents zero division for unseen words\n",
    "    sublinear_tf=False)\n",
    "\n",
    "tfidf_df = tfidf_vectorizer.fit_transform(test_df['text'])"
   ]
  },
  {
   "cell_type": "code",
   "execution_count": null,
   "metadata": {},
   "outputs": [],
   "source": [
    "tfidf_vectorizer.get_feature_names()"
   ]
  },
  {
   "cell_type": "code",
   "execution_count": 24,
   "metadata": {},
   "outputs": [
    {
     "data": {
      "text/plain": [
       "array([3, 1, 3, ..., 2, 3, 2])"
      ]
     },
     "execution_count": 24,
     "metadata": {},
     "output_type": "execute_result"
    }
   ],
   "source": [
    "from sklearn.model_selection import train_test_split\n",
    "X_train, X_test, y_train, y_test = train_test_split(test_df['text'].to_numpy(), test_df['rating'].to_numpy(),\n",
    "                                                    test_size=0.50, random_state=42)\n",
    "\n",
    "from sklearn import tree\n",
    "from sklearn.metrics import accuracy_score\n",
    "from sklearn.feature_extraction.text import TfidfVectorizer\n",
    "\n",
    "vectorizer = TfidfVectorizer(ngram_range=(1,2))\n",
    "vectors_train = vectorizer.fit_transform(X_train)\n",
    "vectors_test = vectorizer.transform(X_test)\n",
    "\n",
    "# Model (can also use single decision tree)\n",
    "from sklearn.ensemble import RandomForestClassifier\n",
    "rf = RandomForestClassifier(n_estimators=100)\n",
    "\n",
    "# Train\n",
    "y_train=y_train.astype(int)\n",
    "rf.fit(vectors_train, y_train)\n",
    "rf.predict(vectors_test)\n",
    "# # Load packages\n",
    "# import pandas as pd\n",
    "# from sklearn.datasets import load_boston\n",
    "# from sklearn.ensemble import RandomForestRegressor\n",
    "# from sklearn import tree\n",
    "# from dtreeviz.trees import dtreeviz # will be used for tree visualization\n",
    "# from matplotlib import pyplot as plt\n",
    "# plt.rcParams.update({'figure.figsize': (12.0, 8.0)})\n",
    "# plt.rcParams.update({'font.size': 14})\n",
    "\n",
    "# len(rf.estimators_)\n",
    "\n",
    "# plt.figure(figsize=(20,20))\n",
    "# _ = tree.plot_tree(rf.estimators_, filled=True)"
   ]
  },
  {
   "cell_type": "code",
   "execution_count": 12,
   "metadata": {},
   "outputs": [
    {
     "data": {
      "text/plain": [
       "121"
      ]
     },
     "execution_count": 12,
     "metadata": {},
     "output_type": "execute_result"
    }
   ],
   "source": [
    "rf.estimators_[0].tree_.max_depth"
   ]
  },
  {
   "cell_type": "code",
   "execution_count": 13,
   "metadata": {},
   "outputs": [
    {
     "data": {
      "text/plain": [
       "RandomForestRegressor(max_depth=3)"
      ]
     },
     "execution_count": 13,
     "metadata": {},
     "output_type": "execute_result"
    }
   ],
   "source": [
    "RandomForestRegressor(bootstrap=True, ccp_alpha=0.0, criterion='mse',\n",
    "                      max_depth=3, max_features='auto', max_leaf_nodes=None,\n",
    "                      max_samples=None, min_impurity_decrease=0.0,\n",
    "                      min_impurity_split=None, min_samples_leaf=1,\n",
    "                      min_samples_split=2, min_weight_fraction_leaf=0.0,\n",
    "                      n_estimators=100, n_jobs=None, oob_score=False,\n",
    "                      random_state=None, verbose=0, warm_start=False)"
   ]
  },
  {
   "cell_type": "code",
   "execution_count": 15,
   "metadata": {},
   "outputs": [
    {
     "data": {
      "image/png": "[encoded data removed]",
      "text/plain": [
       "<Figure size 864x576 with 1 Axes>"
      ]
     },
     "metadata": {
      "needs_background": "light"
     },
     "output_type": "display_data"
    }
   ],
   "source": [
    "_ = tree.plot_tree(rf.estimators_[0], filled=True)"
   ]
  },
  {
   "cell_type": "code",
   "execution_count": 17,
   "metadata": {},
   "outputs": [
    {
     "ename": "NameError",
     "evalue": "name 'X' is not defined",
     "output_type": "error",
     "traceback": [
      "\u001b[1;31m---------------------------------------------------------------------------\u001b[0m",
      "\u001b[1;31mNameError\u001b[0m                                 Traceback (most recent call last)",
      "\u001b[1;32m<ipython-input-17-55d4a849e6e7>\u001b[0m in \u001b[0;36m<module>\u001b[1;34m()\u001b[0m\n\u001b[1;32m----> 1\u001b[1;33m \u001b[0mviz\u001b[0m \u001b[1;33m=\u001b[0m \u001b[0mdtreeviz\u001b[0m\u001b[1;33m(\u001b[0m\u001b[0mrf\u001b[0m\u001b[1;33m.\u001b[0m\u001b[0mestimators_\u001b[0m\u001b[1;33m[\u001b[0m\u001b[1;36m0\u001b[0m\u001b[1;33m]\u001b[0m\u001b[1;33m,\u001b[0m \u001b[0mX\u001b[0m\u001b[1;33m,\u001b[0m \u001b[0my\u001b[0m\u001b[1;33m,\u001b[0m \u001b[0mtarget_name\u001b[0m\u001b[1;33m=\u001b[0m\u001b[1;34m\"Target\"\u001b[0m\u001b[1;33m)\u001b[0m\u001b[1;33m\u001b[0m\u001b[1;33m\u001b[0m\u001b[0m\n\u001b[0m\u001b[0;32m      2\u001b[0m \u001b[0mviz\u001b[0m\u001b[1;33m\u001b[0m\u001b[1;33m\u001b[0m\u001b[0m\n",
      "\u001b[1;31mNameError\u001b[0m: name 'X' is not defined"
     ]
    }
   ],
   "source": [
    "viz = dtreeviz(rf.estimators_[0], X, y, target_name=\"Target\")\n",
    "viz"
   ]
  },
  {
   "cell_type": "code",
   "execution_count": 21,
   "metadata": {},
   "outputs": [
    {
     "data": {
      "text/plain": [
       "RandomForestClassifier()"
      ]
     },
     "execution_count": 21,
     "metadata": {},
     "output_type": "execute_result"
    }
   ],
   "source": [
    "from sklearn.model_selection import train_test_split\n",
    "X_train, X_test, y_train, y_test = train_test_split(test_df['text'].to_numpy(), test_df['rating'].to_numpy(),\n",
    "                                                    test_size=0.50, random_state=42)\n",
    "\n",
    "from sklearn import tree\n",
    "from sklearn.metrics import accuracy_score\n",
    "from sklearn.feature_extraction.text import TfidfVectorizer\n",
    "\n",
    "vectorizer = TfidfVectorizer(ngram_range=(1,2))\n",
    "vectors_train = vectorizer.fit_transform(X_train)\n",
    "vectors_test = vectorizer.transform(X_test)\n",
    "\n",
    "# Model (can also use single decision tree)\n",
    "from sklearn.ensemble import RandomForestClassifier\n",
    "rf = RandomForestClassifier(n_estimators=100)\n",
    "\n",
    "# Train\n",
    "y_train=y_train.astype(int)\n",
    "rf.fit(vectors_train, y_train)"
   ]
  },
  {
   "cell_type": "code",
   "execution_count": 28,
   "metadata": {},
   "outputs": [
    {
     "data": {
      "text/html": [
       "<div>\n",
       "<style scoped>\n",
       "    .dataframe tbody tr th:only-of-type {\n",
       "        vertical-align: middle;\n",
       "    }\n",
       "\n",
       "    .dataframe tbody tr th {\n",
       "        vertical-align: top;\n",
       "    }\n",
       "\n",
       "    .dataframe thead th {\n",
       "        text-align: right;\n",
       "    }\n",
       "</style>\n",
       "<table border=\"1\" class=\"dataframe\">\n",
       "  <thead>\n",
       "    <tr style=\"text-align: right;\">\n",
       "      <th></th>\n",
       "      <th>rating</th>\n",
       "      <th>text</th>\n",
       "    </tr>\n",
       "  </thead>\n",
       "  <tbody>\n",
       "    <tr>\n",
       "      <th>0</th>\n",
       "      <td>2</td>\n",
       "      <td>#KILLALLZOMBIES is an insane twin-stick zombi...</td>\n",
       "    </tr>\n",
       "    <tr>\n",
       "      <th>1</th>\n",
       "      <td>3</td>\n",
       "      <td>You got a problem? Yo, she’ll splode it. At t...</td>\n",
       "    </tr>\n",
       "    <tr>\n",
       "      <th>2</th>\n",
       "      <td>2</td>\n",
       "      <td>Be prepared to be transported to a reality of...</td>\n",
       "    </tr>\n",
       "    <tr>\n",
       "      <th>3</th>\n",
       "      <td>2</td>\n",
       "      <td>A remastered collection of the .hack//G.U. se...</td>\n",
       "    </tr>\n",
       "    <tr>\n",
       "      <th>4</th>\n",
       "      <td>2</td>\n",
       "      <td>.hack//G.U. simulates a massively multiplayer...</td>\n",
       "    </tr>\n",
       "    <tr>\n",
       "      <th>...</th>\n",
       "      <td>...</td>\n",
       "      <td>...</td>\n",
       "    </tr>\n",
       "    <tr>\n",
       "      <th>5629</th>\n",
       "      <td>2</td>\n",
       "      <td>Updated version of the classic Puyo Puyo puzz...</td>\n",
       "    </tr>\n",
       "    <tr>\n",
       "      <th>5630</th>\n",
       "      <td>2</td>\n",
       "      <td>Puyo Puyo is a puzzle game in which the playe...</td>\n",
       "    </tr>\n",
       "    <tr>\n",
       "      <th>5631</th>\n",
       "      <td>2</td>\n",
       "      <td>This is the 7th game in the main Puyo Puyo se...</td>\n",
       "    </tr>\n",
       "    <tr>\n",
       "      <th>5632</th>\n",
       "      <td>2</td>\n",
       "      <td>Easy to learn, tough to master! Jump straight...</td>\n",
       "    </tr>\n",
       "    <tr>\n",
       "      <th>5633</th>\n",
       "      <td>2</td>\n",
       "      <td>Hmm.  no websites found for this game. Care t...</td>\n",
       "    </tr>\n",
       "  </tbody>\n",
       "</table>\n",
       "<p>5634 rows × 2 columns</p>\n",
       "</div>"
      ],
      "text/plain": [
       "     rating                                               text\n",
       "0         2   #KILLALLZOMBIES is an insane twin-stick zombi...\n",
       "1         3   You got a problem? Yo, she’ll splode it. At t...\n",
       "2         2   Be prepared to be transported to a reality of...\n",
       "3         2   A remastered collection of the .hack//G.U. se...\n",
       "4         2   .hack//G.U. simulates a massively multiplayer...\n",
       "...     ...                                                ...\n",
       "5629      2   Updated version of the classic Puyo Puyo puzz...\n",
       "5630      2   Puyo Puyo is a puzzle game in which the playe...\n",
       "5631      2   This is the 7th game in the main Puyo Puyo se...\n",
       "5632      2   Easy to learn, tough to master! Jump straight...\n",
       "5633      2   Hmm.  no websites found for this game. Care t...\n",
       "\n",
       "[5634 rows x 2 columns]"
      ]
     },
     "execution_count": 28,
     "metadata": {},
     "output_type": "execute_result"
    }
   ],
   "source": [
    "test_df"
   ]
  },
  {
   "cell_type": "code",
   "execution_count": 29,
   "metadata": {},
   "outputs": [],
   "source": [
    "from sklearn.cluster import KMeans\n",
    "import numpy as np"
   ]
  },
  {
   "cell_type": "code",
   "execution_count": 65,
   "metadata": {},
   "outputs": [],
   "source": [
    "from sklearn.model_selection import train_test_split\n",
    "X_train, X_test, y_train, y_test = train_test_split(test_df['text'].to_numpy(), test_df['rating'].to_numpy(),\n",
    "                                                    test_size=0.75, random_state=42)\n",
    "from sklearn.feature_extraction.text import TfidfVectorizer\n",
    "\n",
    "vectorizer = TfidfVectorizer(ngram_range=(1,2))\n",
    "vectors_train = vectorizer.fit_transform(test_df['text'][0:5000].to_numpy())\n",
    "vectors_test = vectorizer.transform(test_df['text'][5044:5050].to_numpy())\n",
    "\n",
    " # Use n_clusters=4 as the k value\n",
    "# We can see from the plot above that there are 4 clusters\n",
    "from sklearn.cluster import KMeans\n",
    "kmeans = KMeans(n_clusters=25)"
   ]
  },
  {
   "cell_type": "code",
   "execution_count": 66,
   "metadata": {},
   "outputs": [
    {
     "data": {
      "text/plain": [
       "KMeans(n_clusters=25)"
      ]
     },
     "execution_count": 66,
     "metadata": {},
     "output_type": "execute_result"
    }
   ],
   "source": [
    " # Fit the model to the data\n",
    "kmeans.fit(vectors_train)"
   ]
  },
  {
   "cell_type": "code",
   "execution_count": 67,
   "metadata": {},
   "outputs": [
    {
     "data": {
      "text/plain": [
       "KMeans(n_clusters=25, n_jobs=1, precompute_distances='auto')"
      ]
     },
     "execution_count": 67,
     "metadata": {},
     "output_type": "execute_result"
    }
   ],
   "source": [
    "KMeans(algorithm='auto', copy_x=True, init='k-means++', max_iter=300,\n",
    "    n_clusters=25, n_init=10, n_jobs=1, precompute_distances='auto',\n",
    "    random_state=None, tol=0.0001, verbose=0)"
   ]
  },
  {
   "cell_type": "code",
   "execution_count": 68,
   "metadata": {},
   "outputs": [],
   "source": [
    "# Predict the clusters\n",
    "predicted_clusters = kmeans.predict(vectors_test)"
   ]
  },
  {
   "cell_type": "code",
   "execution_count": 69,
   "metadata": {},
   "outputs": [
    {
     "name": "stdout",
     "output_type": "stream",
     "text": [
      "16\n",
      "23\n",
      "3\n",
      "5\n",
      "5\n",
      "5\n"
     ]
    }
   ],
   "source": [
    "for i in range(len(predicted_clusters)):\n",
    "    print(predicted_clusters[i])"
   ]
  },
  {
   "cell_type": "code",
   "execution_count": 70,
   "metadata": {},
   "outputs": [
    {
     "data": {
      "text/plain": [
       "array([ 3,  1,  3, ..., 18, 18,  5])"
      ]
     },
     "execution_count": 70,
     "metadata": {},
     "output_type": "execute_result"
    }
   ],
   "source": [
    "kmeans.labels_"
   ]
  },
  {
   "cell_type": "code",
   "execution_count": 75,
   "metadata": {},
   "outputs": [
    {
     "data": {
      "text/html": [
       "<div>\n",
       "<style scoped>\n",
       "    .dataframe tbody tr th:only-of-type {\n",
       "        vertical-align: middle;\n",
       "    }\n",
       "\n",
       "    .dataframe tbody tr th {\n",
       "        vertical-align: top;\n",
       "    }\n",
       "\n",
       "    .dataframe thead th {\n",
       "        text-align: right;\n",
       "    }\n",
       "</style>\n",
       "<table border=\"1\" class=\"dataframe\">\n",
       "  <thead>\n",
       "    <tr style=\"text-align: right;\">\n",
       "      <th></th>\n",
       "      <th>rating</th>\n",
       "      <th>text</th>\n",
       "    </tr>\n",
       "  </thead>\n",
       "  <tbody>\n",
       "    <tr>\n",
       "      <th>0</th>\n",
       "      <td>2</td>\n",
       "      <td>#KILLALLZOMBIES is an insane twin-stick zombi...</td>\n",
       "    </tr>\n",
       "    <tr>\n",
       "      <th>1</th>\n",
       "      <td>3</td>\n",
       "      <td>You got a problem? Yo, she’ll splode it. At t...</td>\n",
       "    </tr>\n",
       "    <tr>\n",
       "      <th>2</th>\n",
       "      <td>2</td>\n",
       "      <td>Be prepared to be transported to a reality of...</td>\n",
       "    </tr>\n",
       "    <tr>\n",
       "      <th>3</th>\n",
       "      <td>2</td>\n",
       "      <td>A remastered collection of the .hack//G.U. se...</td>\n",
       "    </tr>\n",
       "    <tr>\n",
       "      <th>4</th>\n",
       "      <td>2</td>\n",
       "      <td>.hack//G.U. simulates a massively multiplayer...</td>\n",
       "    </tr>\n",
       "    <tr>\n",
       "      <th>...</th>\n",
       "      <td>...</td>\n",
       "      <td>...</td>\n",
       "    </tr>\n",
       "    <tr>\n",
       "      <th>4995</th>\n",
       "      <td>2</td>\n",
       "      <td>Become an expert in mine clearance! MineSweep...</td>\n",
       "    </tr>\n",
       "    <tr>\n",
       "      <th>4996</th>\n",
       "      <td>1</td>\n",
       "      <td>Modern take on the classic minefield game!Ton...</td>\n",
       "    </tr>\n",
       "    <tr>\n",
       "      <th>4997</th>\n",
       "      <td>3</td>\n",
       "      <td>In Mini Metro, you take on the task of design...</td>\n",
       "    </tr>\n",
       "    <tr>\n",
       "      <th>4998</th>\n",
       "      <td>3</td>\n",
       "      <td>In Mini Metro, you take on the task of design...</td>\n",
       "    </tr>\n",
       "    <tr>\n",
       "      <th>4999</th>\n",
       "      <td>2</td>\n",
       "      <td>In the free-to-play game Mini Mario and Frien...</td>\n",
       "    </tr>\n",
       "  </tbody>\n",
       "</table>\n",
       "<p>5000 rows × 2 columns</p>\n",
       "</div>"
      ],
      "text/plain": [
       "     rating                                               text\n",
       "0         2   #KILLALLZOMBIES is an insane twin-stick zombi...\n",
       "1         3   You got a problem? Yo, she’ll splode it. At t...\n",
       "2         2   Be prepared to be transported to a reality of...\n",
       "3         2   A remastered collection of the .hack//G.U. se...\n",
       "4         2   .hack//G.U. simulates a massively multiplayer...\n",
       "...     ...                                                ...\n",
       "4995      2   Become an expert in mine clearance! MineSweep...\n",
       "4996      1   Modern take on the classic minefield game!Ton...\n",
       "4997      3   In Mini Metro, you take on the task of design...\n",
       "4998      3   In Mini Metro, you take on the task of design...\n",
       "4999      2   In the free-to-play game Mini Mario and Frien...\n",
       "\n",
       "[5000 rows x 2 columns]"
      ]
     },
     "execution_count": 75,
     "metadata": {},
     "output_type": "execute_result"
    }
   ],
   "source": [
    "train_df = test_df[0:5000]\n",
    "train_df"
   ]
  },
  {
   "cell_type": "code",
   "execution_count": 76,
   "metadata": {},
   "outputs": [
    {
     "name": "stderr",
     "output_type": "stream",
     "text": [
      "C:\\Users\\clewe\\anaconda3\\envs\\PythonAdv\\lib\\site-packages\\ipykernel_launcher.py:1: SettingWithCopyWarning: \n",
      "A value is trying to be set on a copy of a slice from a DataFrame.\n",
      "Try using .loc[row_indexer,col_indexer] = value instead\n",
      "\n",
      "See the caveats in the documentation: https://pandas.pydata.org/pandas-docs/stable/user_guide/indexing.html#returning-a-view-versus-a-copy\n",
      "  \"\"\"Entry point for launching an IPython kernel.\n"
     ]
    },
    {
     "data": {
      "text/html": [
       "<div>\n",
       "<style scoped>\n",
       "    .dataframe tbody tr th:only-of-type {\n",
       "        vertical-align: middle;\n",
       "    }\n",
       "\n",
       "    .dataframe tbody tr th {\n",
       "        vertical-align: top;\n",
       "    }\n",
       "\n",
       "    .dataframe thead th {\n",
       "        text-align: right;\n",
       "    }\n",
       "</style>\n",
       "<table border=\"1\" class=\"dataframe\">\n",
       "  <thead>\n",
       "    <tr style=\"text-align: right;\">\n",
       "      <th></th>\n",
       "      <th>rating</th>\n",
       "      <th>text</th>\n",
       "      <th>Cluster</th>\n",
       "    </tr>\n",
       "  </thead>\n",
       "  <tbody>\n",
       "    <tr>\n",
       "      <th>0</th>\n",
       "      <td>2</td>\n",
       "      <td>#KILLALLZOMBIES is an insane twin-stick zombi...</td>\n",
       "      <td></td>\n",
       "    </tr>\n",
       "    <tr>\n",
       "      <th>1</th>\n",
       "      <td>3</td>\n",
       "      <td>You got a problem? Yo, she’ll splode it. At t...</td>\n",
       "      <td></td>\n",
       "    </tr>\n",
       "    <tr>\n",
       "      <th>2</th>\n",
       "      <td>2</td>\n",
       "      <td>Be prepared to be transported to a reality of...</td>\n",
       "      <td></td>\n",
       "    </tr>\n",
       "    <tr>\n",
       "      <th>3</th>\n",
       "      <td>2</td>\n",
       "      <td>A remastered collection of the .hack//G.U. se...</td>\n",
       "      <td></td>\n",
       "    </tr>\n",
       "    <tr>\n",
       "      <th>4</th>\n",
       "      <td>2</td>\n",
       "      <td>.hack//G.U. simulates a massively multiplayer...</td>\n",
       "      <td></td>\n",
       "    </tr>\n",
       "    <tr>\n",
       "      <th>...</th>\n",
       "      <td>...</td>\n",
       "      <td>...</td>\n",
       "      <td>...</td>\n",
       "    </tr>\n",
       "    <tr>\n",
       "      <th>4995</th>\n",
       "      <td>2</td>\n",
       "      <td>Become an expert in mine clearance! MineSweep...</td>\n",
       "      <td></td>\n",
       "    </tr>\n",
       "    <tr>\n",
       "      <th>4996</th>\n",
       "      <td>1</td>\n",
       "      <td>Modern take on the classic minefield game!Ton...</td>\n",
       "      <td></td>\n",
       "    </tr>\n",
       "    <tr>\n",
       "      <th>4997</th>\n",
       "      <td>3</td>\n",
       "      <td>In Mini Metro, you take on the task of design...</td>\n",
       "      <td></td>\n",
       "    </tr>\n",
       "    <tr>\n",
       "      <th>4998</th>\n",
       "      <td>3</td>\n",
       "      <td>In Mini Metro, you take on the task of design...</td>\n",
       "      <td></td>\n",
       "    </tr>\n",
       "    <tr>\n",
       "      <th>4999</th>\n",
       "      <td>2</td>\n",
       "      <td>In the free-to-play game Mini Mario and Frien...</td>\n",
       "      <td></td>\n",
       "    </tr>\n",
       "  </tbody>\n",
       "</table>\n",
       "<p>5000 rows × 3 columns</p>\n",
       "</div>"
      ],
      "text/plain": [
       "     rating                                               text Cluster\n",
       "0         2   #KILLALLZOMBIES is an insane twin-stick zombi...        \n",
       "1         3   You got a problem? Yo, she’ll splode it. At t...        \n",
       "2         2   Be prepared to be transported to a reality of...        \n",
       "3         2   A remastered collection of the .hack//G.U. se...        \n",
       "4         2   .hack//G.U. simulates a massively multiplayer...        \n",
       "...     ...                                                ...     ...\n",
       "4995      2   Become an expert in mine clearance! MineSweep...        \n",
       "4996      1   Modern take on the classic minefield game!Ton...        \n",
       "4997      3   In Mini Metro, you take on the task of design...        \n",
       "4998      3   In Mini Metro, you take on the task of design...        \n",
       "4999      2   In the free-to-play game Mini Mario and Frien...        \n",
       "\n",
       "[5000 rows x 3 columns]"
      ]
     },
     "execution_count": 76,
     "metadata": {},
     "output_type": "execute_result"
    }
   ],
   "source": [
    "train_df['Cluster'] = ''\n",
    "train_df"
   ]
  },
  {
   "cell_type": "code",
   "execution_count": 78,
   "metadata": {},
   "outputs": [
    {
     "name": "stderr",
     "output_type": "stream",
     "text": [
      "C:\\Users\\clewe\\anaconda3\\envs\\PythonAdv\\lib\\site-packages\\IPython\\core\\interactiveshell.py:2878: SettingWithCopyWarning: \n",
      "A value is trying to be set on a copy of a slice from a DataFrame\n",
      "\n",
      "See the caveats in the documentation: https://pandas.pydata.org/pandas-docs/stable/user_guide/indexing.html#returning-a-view-versus-a-copy\n",
      "  exec(code_obj, self.user_global_ns, self.user_ns)\n"
     ]
    },
    {
     "ename": "IndexError",
     "evalue": "index 6 is out of bounds for axis 0 with size 6",
     "output_type": "error",
     "traceback": [
      "\u001b[1;31m---------------------------------------------------------------------------\u001b[0m",
      "\u001b[1;31mIndexError\u001b[0m                                Traceback (most recent call last)",
      "\u001b[1;32m<ipython-input-78-417f7469c3bc>\u001b[0m in \u001b[0;36m<module>\u001b[1;34m()\u001b[0m\n\u001b[0;32m      1\u001b[0m \u001b[1;32mfor\u001b[0m \u001b[0mi\u001b[0m \u001b[1;32min\u001b[0m \u001b[0mrange\u001b[0m\u001b[1;33m(\u001b[0m\u001b[1;36m5000\u001b[0m\u001b[1;33m)\u001b[0m\u001b[1;33m:\u001b[0m\u001b[1;33m\u001b[0m\u001b[1;33m\u001b[0m\u001b[0m\n\u001b[1;32m----> 2\u001b[1;33m     \u001b[0mcluster\u001b[0m \u001b[1;33m=\u001b[0m \u001b[0mpredicted_clusters\u001b[0m\u001b[1;33m[\u001b[0m\u001b[0mi\u001b[0m\u001b[1;33m]\u001b[0m\u001b[1;33m\u001b[0m\u001b[1;33m\u001b[0m\u001b[0m\n\u001b[0m\u001b[0;32m      3\u001b[0m     \u001b[0mtrain_df\u001b[0m\u001b[1;33m[\u001b[0m\u001b[1;34m'Cluster'\u001b[0m\u001b[1;33m]\u001b[0m\u001b[1;33m[\u001b[0m\u001b[0mi\u001b[0m\u001b[1;33m]\u001b[0m \u001b[1;33m=\u001b[0m \u001b[0mcluster\u001b[0m\u001b[1;33m\u001b[0m\u001b[1;33m\u001b[0m\u001b[0m\n\u001b[0;32m      4\u001b[0m \u001b[0mtrain_df\u001b[0m\u001b[1;33m\u001b[0m\u001b[1;33m\u001b[0m\u001b[0m\n",
      "\u001b[1;31mIndexError\u001b[0m: index 6 is out of bounds for axis 0 with size 6"
     ]
    }
   ],
   "source": [
    "for i in range(5000):\n",
    "    cluster = predicted_clusters[i]\n",
    "    train_df['Cluster'][i] = cluster\n",
    "train_df    "
   ]
  },
  {
   "cell_type": "code",
   "execution_count": 81,
   "metadata": {},
   "outputs": [
    {
     "data": {
      "text/html": [
       "<div>\n",
       "<style scoped>\n",
       "    .dataframe tbody tr th:only-of-type {\n",
       "        vertical-align: middle;\n",
       "    }\n",
       "\n",
       "    .dataframe tbody tr th {\n",
       "        vertical-align: top;\n",
       "    }\n",
       "\n",
       "    .dataframe thead th {\n",
       "        text-align: right;\n",
       "    }\n",
       "</style>\n",
       "<table border=\"1\" class=\"dataframe\">\n",
       "  <thead>\n",
       "    <tr style=\"text-align: right;\">\n",
       "      <th></th>\n",
       "      <th>rating</th>\n",
       "      <th>text</th>\n",
       "      <th>Cluster</th>\n",
       "    </tr>\n",
       "  </thead>\n",
       "  <tbody>\n",
       "    <tr>\n",
       "      <th>0</th>\n",
       "      <td>4</td>\n",
       "      <td>Wannabe pirate Guybrush Threepwood, and the n...</td>\n",
       "      <td>3</td>\n",
       "    </tr>\n",
       "    <tr>\n",
       "      <th>1</th>\n",
       "      <td>1</td>\n",
       "      <td>The curtain rises on yet another never-before...</td>\n",
       "      <td>1</td>\n",
       "    </tr>\n",
       "    <tr>\n",
       "      <th>2</th>\n",
       "      <td>3</td>\n",
       "      <td>Monochroma is a cinematic puzzle platformer t...</td>\n",
       "      <td>3</td>\n",
       "    </tr>\n",
       "    <tr>\n",
       "      <th>3</th>\n",
       "      <td>2</td>\n",
       "      <td>This is an adaptation of the Monopoly board g...</td>\n",
       "      <td>16</td>\n",
       "    </tr>\n",
       "    <tr>\n",
       "      <th>4</th>\n",
       "      <td>2</td>\n",
       "      <td>This is an adaptation of the Monopoly board g...</td>\n",
       "      <td>16</td>\n",
       "    </tr>\n",
       "    <tr>\n",
       "      <th>5</th>\n",
       "      <td>2</td>\n",
       "      <td>Four board game adaptations for Nintendo DS. ...</td>\n",
       "      <td>21</td>\n",
       "    </tr>\n",
       "  </tbody>\n",
       "</table>\n",
       "</div>"
      ],
      "text/plain": [
       "  rating                                               text Cluster\n",
       "0      4   Wannabe pirate Guybrush Threepwood, and the n...       3\n",
       "1      1   The curtain rises on yet another never-before...       1\n",
       "2      3   Monochroma is a cinematic puzzle platformer t...       3\n",
       "3      2   This is an adaptation of the Monopoly board g...      16\n",
       "4      2   This is an adaptation of the Monopoly board g...      16\n",
       "5      2   Four board game adaptations for Nintendo DS. ...      21"
      ]
     },
     "execution_count": 81,
     "metadata": {},
     "output_type": "execute_result"
    }
   ],
   "source": [
    "result_df = test_df[5044:5050].reset_index(drop=True)\n",
    "result_df['Cluster'] = ''\n",
    "for i in range(len(result_df)):\n",
    "    cluster = kmeans.labels_[i]\n",
    "    result_df['Cluster'][i] = cluster\n",
    "result_df"
   ]
  },
  {
   "cell_type": "code",
   "execution_count": 83,
   "metadata": {},
   "outputs": [
    {
     "data": {
      "text/html": [
       "<div>\n",
       "<style scoped>\n",
       "    .dataframe tbody tr th:only-of-type {\n",
       "        vertical-align: middle;\n",
       "    }\n",
       "\n",
       "    .dataframe tbody tr th {\n",
       "        vertical-align: top;\n",
       "    }\n",
       "\n",
       "    .dataframe thead th {\n",
       "        text-align: right;\n",
       "    }\n",
       "</style>\n",
       "<table border=\"1\" class=\"dataframe\">\n",
       "  <thead>\n",
       "    <tr style=\"text-align: right;\">\n",
       "      <th></th>\n",
       "      <th>rating</th>\n",
       "      <th>text</th>\n",
       "      <th>Cluster</th>\n",
       "    </tr>\n",
       "  </thead>\n",
       "  <tbody>\n",
       "    <tr>\n",
       "      <th>2</th>\n",
       "      <td>2</td>\n",
       "      <td>Be prepared to be transported to a reality of...</td>\n",
       "      <td>3</td>\n",
       "    </tr>\n",
       "    <tr>\n",
       "      <th>25</th>\n",
       "      <td>1</td>\n",
       "      <td>Aban Hawkins &amp; the 1000 Spikes is an 8-bit re...</td>\n",
       "      <td>3</td>\n",
       "    </tr>\n",
       "    <tr>\n",
       "      <th>34</th>\n",
       "      <td>3</td>\n",
       "      <td>140 is an indie 2D puzzle-platformer. It feat...</td>\n",
       "      <td>3</td>\n",
       "    </tr>\n",
       "    <tr>\n",
       "      <th>40</th>\n",
       "      <td>3</td>\n",
       "      <td>1979 Revolution, the action/adventure game, i...</td>\n",
       "      <td>3</td>\n",
       "    </tr>\n",
       "    <tr>\n",
       "      <th>52</th>\n",
       "      <td>2</td>\n",
       "      <td>20XX is a co-op-friendly action platformer ro...</td>\n",
       "      <td>3</td>\n",
       "    </tr>\n",
       "    <tr>\n",
       "      <th>...</th>\n",
       "      <td>...</td>\n",
       "      <td>...</td>\n",
       "      <td>...</td>\n",
       "    </tr>\n",
       "    <tr>\n",
       "      <th>4909</th>\n",
       "      <td>2</td>\n",
       "      <td>Metaloid: Origin is an fast-paced gun’n'run 2...</td>\n",
       "      <td>3</td>\n",
       "    </tr>\n",
       "    <tr>\n",
       "      <th>4913</th>\n",
       "      <td>1</td>\n",
       "      <td>Metrico+ is an input-driven game in a world o...</td>\n",
       "      <td>3</td>\n",
       "    </tr>\n",
       "    <tr>\n",
       "      <th>4976</th>\n",
       "      <td>2</td>\n",
       "      <td>A sequel to the 3DS/Wii U puzzle-platformer b...</td>\n",
       "      <td>3</td>\n",
       "    </tr>\n",
       "    <tr>\n",
       "      <th>4977</th>\n",
       "      <td>4</td>\n",
       "      <td>Switch up the fun with four games in one with...</td>\n",
       "      <td>3</td>\n",
       "    </tr>\n",
       "    <tr>\n",
       "      <th>4996</th>\n",
       "      <td>1</td>\n",
       "      <td>Modern take on the classic minefield game!Ton...</td>\n",
       "      <td>3</td>\n",
       "    </tr>\n",
       "  </tbody>\n",
       "</table>\n",
       "<p>387 rows × 3 columns</p>\n",
       "</div>"
      ],
      "text/plain": [
       "     rating                                               text Cluster\n",
       "2         2   Be prepared to be transported to a reality of...       3\n",
       "25        1   Aban Hawkins & the 1000 Spikes is an 8-bit re...       3\n",
       "34        3   140 is an indie 2D puzzle-platformer. It feat...       3\n",
       "40        3   1979 Revolution, the action/adventure game, i...       3\n",
       "52        2   20XX is a co-op-friendly action platformer ro...       3\n",
       "...     ...                                                ...     ...\n",
       "4909      2   Metaloid: Origin is an fast-paced gun’n'run 2...       3\n",
       "4913      1   Metrico+ is an input-driven game in a world o...       3\n",
       "4976      2   A sequel to the 3DS/Wii U puzzle-platformer b...       3\n",
       "4977      4   Switch up the fun with four games in one with...       3\n",
       "4996      1   Modern take on the classic minefield game!Ton...       3\n",
       "\n",
       "[387 rows x 3 columns]"
      ]
     },
     "execution_count": 83,
     "metadata": {},
     "output_type": "execute_result"
    }
   ],
   "source": [
    "train_df[train_df['Cluster'] == 3]"
   ]
  },
  {
   "cell_type": "code",
   "execution_count": null,
   "metadata": {},
   "outputs": [],
   "source": []
  }
 ],
 "metadata": {
  "kernelspec": {
   "display_name": "Python [conda env:PythonAdv]",
   "language": "python",
   "name": "conda-env-PythonAdv-py"
  },
  "language_info": {
   "codemirror_mode": {
    "name": "ipython",
    "version": 3
   },
   "file_extension": ".py",
   "mimetype": "text/x-python",
   "name": "python",
   "nbconvert_exporter": "python",
   "pygments_lexer": "ipython3",
   "version": "3.6.12"
  }
 },
 "nbformat": 4,
 "nbformat_minor": 4
}
